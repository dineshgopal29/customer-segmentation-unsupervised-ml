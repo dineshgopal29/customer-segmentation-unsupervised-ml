{
 "cells": [
  {
   "cell_type": "markdown",
   "metadata": {},
   "source": [
    "# Capstone Project: Create a Customer Segmentation Report for Arvato Financial Services\n",
    "\n",
    "In this project, you will analyze demographics data for customers of a mail-order sales company in Germany, comparing it against demographics information for the general population. You'll use unsupervised learning techniques to perform customer segmentation, identifying the parts of the population that best describe the core customer base of the company. Then, you'll apply what you've learned on a third dataset with demographics information for targets of a marketing campaign for the company, and use a model to predict which individuals are most likely to convert into becoming customers for the company. The data that you will use has been provided by our partners at Bertelsmann Arvato Analytics, and represents a real-life data science task.\n",
    "\n",
    "If you completed the first term of this program, you will be familiar with the first part of this project, from the unsupervised learning project. The versions of those two datasets used in this project will include many more features and has not been pre-cleaned. You are also free to choose whatever approach you'd like to analyzing the data rather than follow pre-determined steps. In your work on this project, make sure that you carefully document your steps and decisions, since your main deliverable for this project will be a blog post reporting your findings."
   ]
  },
  {
   "cell_type": "code",
   "execution_count": 1,
   "metadata": {},
   "outputs": [],
   "source": [
    "# import libraries here; add more as necessary\n",
    "import numpy as np\n",
    "import pandas as pd\n",
    "\n",
    "import matplotlib.pyplot as plt\n",
    "import seaborn as sns\n",
    "\n",
    "from sklearn.preprocessing import StandardScaler, MinMaxScaler\n",
    "from sklearn import preprocessing\n",
    "\n",
    "from sklearn.model_selection import train_test_split\n",
    "from sklearn.model_selection import StratifiedKFold\n",
    "from sklearn.model_selection import GridSearchCV\n",
    "\n",
    "from sklearn.decomposition import PCA\n",
    "from sklearn.preprocessing import Imputer\n",
    "from sklearn.cluster import KMeans\n",
    "from sklearn.cluster import DBSCAN\n",
    "from sklearn.cluster import MeanShift\n",
    "\n",
    "from sklearn.ensemble import AdaBoostRegressor # Adaptive Boosting\n",
    "from sklearn.ensemble import GradientBoostingRegressor # Gradient Tree Boosting\n",
    "from xgboost.sklearn import XGBRegressor # Extreme Gradient Boosting\n",
    "from sklearn.ensemble import GradientBoostingClassifier\n",
    "from sklearn.model_selection import GridSearchCV\n",
    "import xgboost as xgb\n",
    "\n",
    "from sklearn.metrics import roc_auc_score, fbeta_score, accuracy_score, precision_score, recall_score\n",
    "\n",
    "from scipy import stats\n",
    "from time import time\n",
    "\n",
    "# magic word for producing visualizations in notebook\n",
    "%matplotlib inline"
   ]
  },
  {
   "cell_type": "markdown",
   "metadata": {},
   "source": [
    "## Part 0: Get to Know the Data\n",
    "\n",
    "There are four data files associated with this project:\n",
    "\n",
    "- `Udacity_AZDIAS_052018.csv`: Demographics data for the general population of Germany; 891 211 persons (rows) x 366 features (columns).\n",
    "- `Udacity_CUSTOMERS_052018.csv`: Demographics data for customers of a mail-order company; 191 652 persons (rows) x 369 features (columns).\n",
    "- `Udacity_MAILOUT_052018_TRAIN.csv`: Demographics data for individuals who were targets of a marketing campaign; 42 982 persons (rows) x 367 (columns).\n",
    "- `Udacity_MAILOUT_052018_TEST.csv`: Demographics data for individuals who were targets of a marketing campaign; 42 833 persons (rows) x 366 (columns).\n",
    "\n",
    "Each row of the demographics files represents a single person, but also includes information outside of individuals, including information about their household, building, and neighborhood. Use the information from the first two files to figure out how customers (\"CUSTOMERS\") are similar to or differ from the general population at large (\"AZDIAS\"), then use your analysis to make predictions on the other two files (\"MAILOUT\"), predicting which recipients are most likely to become a customer for the mail-order company.\n",
    "\n",
    "The \"CUSTOMERS\" file contains three extra columns ('CUSTOMER_GROUP', 'ONLINE_PURCHASE', and 'PRODUCT_GROUP'), which provide broad information about the customers depicted in the file. The original \"MAILOUT\" file included one additional column, \"RESPONSE\", which indicated whether or not each recipient became a customer of the company. For the \"TRAIN\" subset, this column has been retained, but in the \"TEST\" subset it has been removed; it is against that withheld column that your final predictions will be assessed in the Kaggle competition.\n",
    "\n",
    "Otherwise, all of the remaining columns are the same between the three data files. For more information about the columns depicted in the files, you can refer to two Excel spreadsheets provided in the workspace. [One of them](./DIAS Information Levels - Attributes 2017.xlsx) is a top-level list of attributes and descriptions, organized by informational category. [The other](./DIAS Attributes - Values 2017.xlsx) is a detailed mapping of data values for each feature in alphabetical order.\n",
    "\n",
    "In the below cell, we've provided some initial code to load in the first two datasets. Note for all of the `.csv` data files in this project that they're semicolon (`;`) delimited, so an additional argument in the [`read_csv()`](https://pandas.pydata.org/pandas-docs/stable/generated/pandas.read_csv.html) call has been included to read in the data properly. Also, considering the size of the datasets, it may take some time for them to load completely.\n",
    "\n",
    "You'll notice when the data is loaded in that a warning message will immediately pop up. Before you really start digging into the modeling and analysis, you're going to need to perform some cleaning. Take some time to browse the structure of the data and look over the informational spreadsheets to understand the data values. Make some decisions on which features to keep, which features to drop, and if any revisions need to be made on data formats. It'll be a good idea to create a function with pre-processing steps, since you'll need to clean all of the datasets before you work with them."
   ]
  },
  {
   "cell_type": "code",
   "execution_count": 2,
   "metadata": {},
   "outputs": [
    {
     "name": "stdout",
     "output_type": "stream",
     "text": [
      "CPU times: user 52.8 s, sys: 23.1 s, total: 1min 15s\n",
      "Wall time: 1min 9s\n"
     ]
    }
   ],
   "source": [
    "%%time\n",
    "# Loading Data from the datasets\n",
    "population_data_main = pd.read_csv('arvato_data/Udacity_AZDIAS_052018.csv', sep=';', low_memory=False)\n",
    "customers_data_main = pd.read_csv('arvato_data/Udacity_CUSTOMERS_052018.csv', sep=';', low_memory=False)"
   ]
  },
  {
   "cell_type": "code",
   "execution_count": 3,
   "metadata": {},
   "outputs": [],
   "source": [
    "#making a copy of the data loaded to avoid modifying the original data\n",
    "population_data = population_data_main.copy()\n",
    "customers_data = customers_data_main.copy()"
   ]
  },
  {
   "cell_type": "markdown",
   "metadata": {},
   "source": [
    "# Exploring and Analysing the Dataset\n",
    "\n",
    "##### Step 1: Sneak Peak at the data"
   ]
  },
  {
   "cell_type": "code",
   "execution_count": 4,
   "metadata": {},
   "outputs": [
    {
     "data": {
      "text/html": [
       "<div>\n",
       "<style scoped>\n",
       "    .dataframe tbody tr th:only-of-type {\n",
       "        vertical-align: middle;\n",
       "    }\n",
       "\n",
       "    .dataframe tbody tr th {\n",
       "        vertical-align: top;\n",
       "    }\n",
       "\n",
       "    .dataframe thead th {\n",
       "        text-align: right;\n",
       "    }\n",
       "</style>\n",
       "<table border=\"1\" class=\"dataframe\">\n",
       "  <thead>\n",
       "    <tr style=\"text-align: right;\">\n",
       "      <th></th>\n",
       "      <th>LNR</th>\n",
       "      <th>AGER_TYP</th>\n",
       "      <th>AKT_DAT_KL</th>\n",
       "      <th>ALTER_HH</th>\n",
       "      <th>ALTER_KIND1</th>\n",
       "      <th>ALTER_KIND2</th>\n",
       "      <th>ALTER_KIND3</th>\n",
       "      <th>ALTER_KIND4</th>\n",
       "      <th>ALTERSKATEGORIE_FEIN</th>\n",
       "      <th>ANZ_HAUSHALTE_AKTIV</th>\n",
       "      <th>...</th>\n",
       "      <th>VHN</th>\n",
       "      <th>VK_DHT4A</th>\n",
       "      <th>VK_DISTANZ</th>\n",
       "      <th>VK_ZG11</th>\n",
       "      <th>W_KEIT_KIND_HH</th>\n",
       "      <th>WOHNDAUER_2008</th>\n",
       "      <th>WOHNLAGE</th>\n",
       "      <th>ZABEOTYP</th>\n",
       "      <th>ANREDE_KZ</th>\n",
       "      <th>ALTERSKATEGORIE_GROB</th>\n",
       "    </tr>\n",
       "  </thead>\n",
       "  <tbody>\n",
       "    <tr>\n",
       "      <td>count</td>\n",
       "      <td>8.912210e+05</td>\n",
       "      <td>891221.000000</td>\n",
       "      <td>817722.000000</td>\n",
       "      <td>817722.000000</td>\n",
       "      <td>81058.000000</td>\n",
       "      <td>29499.000000</td>\n",
       "      <td>6170.000000</td>\n",
       "      <td>1205.000000</td>\n",
       "      <td>628274.000000</td>\n",
       "      <td>798073.000000</td>\n",
       "      <td>...</td>\n",
       "      <td>770025.000000</td>\n",
       "      <td>815304.000000</td>\n",
       "      <td>815304.000000</td>\n",
       "      <td>815304.000000</td>\n",
       "      <td>783619.000000</td>\n",
       "      <td>817722.000000</td>\n",
       "      <td>798073.000000</td>\n",
       "      <td>891221.000000</td>\n",
       "      <td>891221.000000</td>\n",
       "      <td>891221.000000</td>\n",
       "    </tr>\n",
       "    <tr>\n",
       "      <td>mean</td>\n",
       "      <td>6.372630e+05</td>\n",
       "      <td>-0.358435</td>\n",
       "      <td>4.421928</td>\n",
       "      <td>10.864126</td>\n",
       "      <td>11.745392</td>\n",
       "      <td>13.402658</td>\n",
       "      <td>14.476013</td>\n",
       "      <td>15.089627</td>\n",
       "      <td>13.700717</td>\n",
       "      <td>8.287263</td>\n",
       "      <td>...</td>\n",
       "      <td>2.417322</td>\n",
       "      <td>6.001214</td>\n",
       "      <td>7.532130</td>\n",
       "      <td>5.945972</td>\n",
       "      <td>3.933406</td>\n",
       "      <td>7.908791</td>\n",
       "      <td>4.052836</td>\n",
       "      <td>3.362438</td>\n",
       "      <td>1.522098</td>\n",
       "      <td>2.777398</td>\n",
       "    </tr>\n",
       "    <tr>\n",
       "      <td>std</td>\n",
       "      <td>2.572735e+05</td>\n",
       "      <td>1.198724</td>\n",
       "      <td>3.638805</td>\n",
       "      <td>7.639683</td>\n",
       "      <td>4.097660</td>\n",
       "      <td>3.243300</td>\n",
       "      <td>2.712427</td>\n",
       "      <td>2.452932</td>\n",
       "      <td>5.079849</td>\n",
       "      <td>15.628087</td>\n",
       "      <td>...</td>\n",
       "      <td>1.166572</td>\n",
       "      <td>2.856091</td>\n",
       "      <td>3.247789</td>\n",
       "      <td>2.771464</td>\n",
       "      <td>1.964701</td>\n",
       "      <td>1.923137</td>\n",
       "      <td>1.949539</td>\n",
       "      <td>1.352704</td>\n",
       "      <td>0.499512</td>\n",
       "      <td>1.068775</td>\n",
       "    </tr>\n",
       "    <tr>\n",
       "      <td>min</td>\n",
       "      <td>1.916530e+05</td>\n",
       "      <td>-1.000000</td>\n",
       "      <td>1.000000</td>\n",
       "      <td>0.000000</td>\n",
       "      <td>2.000000</td>\n",
       "      <td>2.000000</td>\n",
       "      <td>4.000000</td>\n",
       "      <td>7.000000</td>\n",
       "      <td>0.000000</td>\n",
       "      <td>0.000000</td>\n",
       "      <td>...</td>\n",
       "      <td>0.000000</td>\n",
       "      <td>1.000000</td>\n",
       "      <td>1.000000</td>\n",
       "      <td>1.000000</td>\n",
       "      <td>0.000000</td>\n",
       "      <td>1.000000</td>\n",
       "      <td>0.000000</td>\n",
       "      <td>1.000000</td>\n",
       "      <td>1.000000</td>\n",
       "      <td>1.000000</td>\n",
       "    </tr>\n",
       "    <tr>\n",
       "      <td>25%</td>\n",
       "      <td>4.144580e+05</td>\n",
       "      <td>-1.000000</td>\n",
       "      <td>1.000000</td>\n",
       "      <td>0.000000</td>\n",
       "      <td>8.000000</td>\n",
       "      <td>11.000000</td>\n",
       "      <td>13.000000</td>\n",
       "      <td>14.000000</td>\n",
       "      <td>11.000000</td>\n",
       "      <td>1.000000</td>\n",
       "      <td>...</td>\n",
       "      <td>2.000000</td>\n",
       "      <td>3.000000</td>\n",
       "      <td>5.000000</td>\n",
       "      <td>4.000000</td>\n",
       "      <td>2.000000</td>\n",
       "      <td>8.000000</td>\n",
       "      <td>3.000000</td>\n",
       "      <td>3.000000</td>\n",
       "      <td>1.000000</td>\n",
       "      <td>2.000000</td>\n",
       "    </tr>\n",
       "    <tr>\n",
       "      <td>50%</td>\n",
       "      <td>6.372630e+05</td>\n",
       "      <td>-1.000000</td>\n",
       "      <td>3.000000</td>\n",
       "      <td>13.000000</td>\n",
       "      <td>12.000000</td>\n",
       "      <td>14.000000</td>\n",
       "      <td>15.000000</td>\n",
       "      <td>15.000000</td>\n",
       "      <td>14.000000</td>\n",
       "      <td>4.000000</td>\n",
       "      <td>...</td>\n",
       "      <td>2.000000</td>\n",
       "      <td>6.000000</td>\n",
       "      <td>8.000000</td>\n",
       "      <td>6.000000</td>\n",
       "      <td>4.000000</td>\n",
       "      <td>9.000000</td>\n",
       "      <td>3.000000</td>\n",
       "      <td>3.000000</td>\n",
       "      <td>2.000000</td>\n",
       "      <td>3.000000</td>\n",
       "    </tr>\n",
       "    <tr>\n",
       "      <td>75%</td>\n",
       "      <td>8.600680e+05</td>\n",
       "      <td>-1.000000</td>\n",
       "      <td>9.000000</td>\n",
       "      <td>17.000000</td>\n",
       "      <td>15.000000</td>\n",
       "      <td>16.000000</td>\n",
       "      <td>17.000000</td>\n",
       "      <td>17.000000</td>\n",
       "      <td>17.000000</td>\n",
       "      <td>9.000000</td>\n",
       "      <td>...</td>\n",
       "      <td>3.000000</td>\n",
       "      <td>9.000000</td>\n",
       "      <td>10.000000</td>\n",
       "      <td>8.000000</td>\n",
       "      <td>6.000000</td>\n",
       "      <td>9.000000</td>\n",
       "      <td>5.000000</td>\n",
       "      <td>4.000000</td>\n",
       "      <td>2.000000</td>\n",
       "      <td>4.000000</td>\n",
       "    </tr>\n",
       "    <tr>\n",
       "      <td>max</td>\n",
       "      <td>1.082873e+06</td>\n",
       "      <td>3.000000</td>\n",
       "      <td>9.000000</td>\n",
       "      <td>21.000000</td>\n",
       "      <td>18.000000</td>\n",
       "      <td>18.000000</td>\n",
       "      <td>18.000000</td>\n",
       "      <td>18.000000</td>\n",
       "      <td>25.000000</td>\n",
       "      <td>595.000000</td>\n",
       "      <td>...</td>\n",
       "      <td>4.000000</td>\n",
       "      <td>11.000000</td>\n",
       "      <td>13.000000</td>\n",
       "      <td>11.000000</td>\n",
       "      <td>6.000000</td>\n",
       "      <td>9.000000</td>\n",
       "      <td>8.000000</td>\n",
       "      <td>6.000000</td>\n",
       "      <td>2.000000</td>\n",
       "      <td>9.000000</td>\n",
       "    </tr>\n",
       "  </tbody>\n",
       "</table>\n",
       "<p>8 rows × 360 columns</p>\n",
       "</div>"
      ],
      "text/plain": [
       "                LNR       AGER_TYP     AKT_DAT_KL       ALTER_HH  \\\n",
       "count  8.912210e+05  891221.000000  817722.000000  817722.000000   \n",
       "mean   6.372630e+05      -0.358435       4.421928      10.864126   \n",
       "std    2.572735e+05       1.198724       3.638805       7.639683   \n",
       "min    1.916530e+05      -1.000000       1.000000       0.000000   \n",
       "25%    4.144580e+05      -1.000000       1.000000       0.000000   \n",
       "50%    6.372630e+05      -1.000000       3.000000      13.000000   \n",
       "75%    8.600680e+05      -1.000000       9.000000      17.000000   \n",
       "max    1.082873e+06       3.000000       9.000000      21.000000   \n",
       "\n",
       "        ALTER_KIND1   ALTER_KIND2  ALTER_KIND3  ALTER_KIND4  \\\n",
       "count  81058.000000  29499.000000  6170.000000  1205.000000   \n",
       "mean      11.745392     13.402658    14.476013    15.089627   \n",
       "std        4.097660      3.243300     2.712427     2.452932   \n",
       "min        2.000000      2.000000     4.000000     7.000000   \n",
       "25%        8.000000     11.000000    13.000000    14.000000   \n",
       "50%       12.000000     14.000000    15.000000    15.000000   \n",
       "75%       15.000000     16.000000    17.000000    17.000000   \n",
       "max       18.000000     18.000000    18.000000    18.000000   \n",
       "\n",
       "       ALTERSKATEGORIE_FEIN  ANZ_HAUSHALTE_AKTIV  ...            VHN  \\\n",
       "count         628274.000000        798073.000000  ...  770025.000000   \n",
       "mean              13.700717             8.287263  ...       2.417322   \n",
       "std                5.079849            15.628087  ...       1.166572   \n",
       "min                0.000000             0.000000  ...       0.000000   \n",
       "25%               11.000000             1.000000  ...       2.000000   \n",
       "50%               14.000000             4.000000  ...       2.000000   \n",
       "75%               17.000000             9.000000  ...       3.000000   \n",
       "max               25.000000           595.000000  ...       4.000000   \n",
       "\n",
       "            VK_DHT4A     VK_DISTANZ        VK_ZG11  W_KEIT_KIND_HH  \\\n",
       "count  815304.000000  815304.000000  815304.000000   783619.000000   \n",
       "mean        6.001214       7.532130       5.945972        3.933406   \n",
       "std         2.856091       3.247789       2.771464        1.964701   \n",
       "min         1.000000       1.000000       1.000000        0.000000   \n",
       "25%         3.000000       5.000000       4.000000        2.000000   \n",
       "50%         6.000000       8.000000       6.000000        4.000000   \n",
       "75%         9.000000      10.000000       8.000000        6.000000   \n",
       "max        11.000000      13.000000      11.000000        6.000000   \n",
       "\n",
       "       WOHNDAUER_2008       WOHNLAGE       ZABEOTYP      ANREDE_KZ  \\\n",
       "count   817722.000000  798073.000000  891221.000000  891221.000000   \n",
       "mean         7.908791       4.052836       3.362438       1.522098   \n",
       "std          1.923137       1.949539       1.352704       0.499512   \n",
       "min          1.000000       0.000000       1.000000       1.000000   \n",
       "25%          8.000000       3.000000       3.000000       1.000000   \n",
       "50%          9.000000       3.000000       3.000000       2.000000   \n",
       "75%          9.000000       5.000000       4.000000       2.000000   \n",
       "max          9.000000       8.000000       6.000000       2.000000   \n",
       "\n",
       "       ALTERSKATEGORIE_GROB  \n",
       "count         891221.000000  \n",
       "mean               2.777398  \n",
       "std                1.068775  \n",
       "min                1.000000  \n",
       "25%                2.000000  \n",
       "50%                3.000000  \n",
       "75%                4.000000  \n",
       "max                9.000000  \n",
       "\n",
       "[8 rows x 360 columns]"
      ]
     },
     "execution_count": 4,
     "metadata": {},
     "output_type": "execute_result"
    }
   ],
   "source": [
    "population_data.describe()"
   ]
  },
  {
   "cell_type": "code",
   "execution_count": 5,
   "metadata": {},
   "outputs": [
    {
     "data": {
      "text/html": [
       "<div>\n",
       "<style scoped>\n",
       "    .dataframe tbody tr th:only-of-type {\n",
       "        vertical-align: middle;\n",
       "    }\n",
       "\n",
       "    .dataframe tbody tr th {\n",
       "        vertical-align: top;\n",
       "    }\n",
       "\n",
       "    .dataframe thead th {\n",
       "        text-align: right;\n",
       "    }\n",
       "</style>\n",
       "<table border=\"1\" class=\"dataframe\">\n",
       "  <thead>\n",
       "    <tr style=\"text-align: right;\">\n",
       "      <th></th>\n",
       "      <th>LNR</th>\n",
       "      <th>AGER_TYP</th>\n",
       "      <th>AKT_DAT_KL</th>\n",
       "      <th>ALTER_HH</th>\n",
       "      <th>ALTER_KIND1</th>\n",
       "      <th>ALTER_KIND2</th>\n",
       "      <th>ALTER_KIND3</th>\n",
       "      <th>ALTER_KIND4</th>\n",
       "      <th>ALTERSKATEGORIE_FEIN</th>\n",
       "      <th>ANZ_HAUSHALTE_AKTIV</th>\n",
       "      <th>...</th>\n",
       "      <th>VK_DHT4A</th>\n",
       "      <th>VK_DISTANZ</th>\n",
       "      <th>VK_ZG11</th>\n",
       "      <th>W_KEIT_KIND_HH</th>\n",
       "      <th>WOHNDAUER_2008</th>\n",
       "      <th>WOHNLAGE</th>\n",
       "      <th>ZABEOTYP</th>\n",
       "      <th>ONLINE_PURCHASE</th>\n",
       "      <th>ANREDE_KZ</th>\n",
       "      <th>ALTERSKATEGORIE_GROB</th>\n",
       "    </tr>\n",
       "  </thead>\n",
       "  <tbody>\n",
       "    <tr>\n",
       "      <td>count</td>\n",
       "      <td>191652.000000</td>\n",
       "      <td>191652.000000</td>\n",
       "      <td>145056.000000</td>\n",
       "      <td>145056.000000</td>\n",
       "      <td>11766.000000</td>\n",
       "      <td>5100.000000</td>\n",
       "      <td>1275.000000</td>\n",
       "      <td>236.000000</td>\n",
       "      <td>139810.000000</td>\n",
       "      <td>141725.000000</td>\n",
       "      <td>...</td>\n",
       "      <td>143781.000000</td>\n",
       "      <td>143781.000000</td>\n",
       "      <td>143781.000000</td>\n",
       "      <td>137910.000000</td>\n",
       "      <td>145056.000000</td>\n",
       "      <td>141725.000000</td>\n",
       "      <td>191652.000000</td>\n",
       "      <td>191652.000000</td>\n",
       "      <td>191652.000000</td>\n",
       "      <td>191652.000000</td>\n",
       "    </tr>\n",
       "    <tr>\n",
       "      <td>mean</td>\n",
       "      <td>95826.500000</td>\n",
       "      <td>0.344359</td>\n",
       "      <td>1.747525</td>\n",
       "      <td>11.352009</td>\n",
       "      <td>12.337243</td>\n",
       "      <td>13.672353</td>\n",
       "      <td>14.647059</td>\n",
       "      <td>15.377119</td>\n",
       "      <td>10.331579</td>\n",
       "      <td>4.965863</td>\n",
       "      <td>...</td>\n",
       "      <td>4.374417</td>\n",
       "      <td>4.564769</td>\n",
       "      <td>3.168868</td>\n",
       "      <td>4.152716</td>\n",
       "      <td>8.646371</td>\n",
       "      <td>3.723133</td>\n",
       "      <td>2.576806</td>\n",
       "      <td>0.090247</td>\n",
       "      <td>1.376432</td>\n",
       "      <td>3.060907</td>\n",
       "    </tr>\n",
       "    <tr>\n",
       "      <td>std</td>\n",
       "      <td>55325.311233</td>\n",
       "      <td>1.391672</td>\n",
       "      <td>1.966334</td>\n",
       "      <td>6.275026</td>\n",
       "      <td>4.006050</td>\n",
       "      <td>3.243335</td>\n",
       "      <td>2.753787</td>\n",
       "      <td>2.307653</td>\n",
       "      <td>4.134828</td>\n",
       "      <td>14.309694</td>\n",
       "      <td>...</td>\n",
       "      <td>2.924355</td>\n",
       "      <td>2.887035</td>\n",
       "      <td>2.233516</td>\n",
       "      <td>1.974375</td>\n",
       "      <td>1.154001</td>\n",
       "      <td>2.095540</td>\n",
       "      <td>1.168486</td>\n",
       "      <td>0.286536</td>\n",
       "      <td>0.484492</td>\n",
       "      <td>1.086254</td>\n",
       "    </tr>\n",
       "    <tr>\n",
       "      <td>min</td>\n",
       "      <td>1.000000</td>\n",
       "      <td>-1.000000</td>\n",
       "      <td>1.000000</td>\n",
       "      <td>0.000000</td>\n",
       "      <td>2.000000</td>\n",
       "      <td>2.000000</td>\n",
       "      <td>5.000000</td>\n",
       "      <td>8.000000</td>\n",
       "      <td>0.000000</td>\n",
       "      <td>0.000000</td>\n",
       "      <td>...</td>\n",
       "      <td>1.000000</td>\n",
       "      <td>1.000000</td>\n",
       "      <td>1.000000</td>\n",
       "      <td>0.000000</td>\n",
       "      <td>1.000000</td>\n",
       "      <td>0.000000</td>\n",
       "      <td>1.000000</td>\n",
       "      <td>0.000000</td>\n",
       "      <td>1.000000</td>\n",
       "      <td>1.000000</td>\n",
       "    </tr>\n",
       "    <tr>\n",
       "      <td>25%</td>\n",
       "      <td>47913.750000</td>\n",
       "      <td>-1.000000</td>\n",
       "      <td>1.000000</td>\n",
       "      <td>8.000000</td>\n",
       "      <td>9.000000</td>\n",
       "      <td>11.000000</td>\n",
       "      <td>13.000000</td>\n",
       "      <td>14.000000</td>\n",
       "      <td>9.000000</td>\n",
       "      <td>1.000000</td>\n",
       "      <td>...</td>\n",
       "      <td>2.000000</td>\n",
       "      <td>2.000000</td>\n",
       "      <td>1.000000</td>\n",
       "      <td>2.000000</td>\n",
       "      <td>9.000000</td>\n",
       "      <td>2.000000</td>\n",
       "      <td>1.000000</td>\n",
       "      <td>0.000000</td>\n",
       "      <td>1.000000</td>\n",
       "      <td>3.000000</td>\n",
       "    </tr>\n",
       "    <tr>\n",
       "      <td>50%</td>\n",
       "      <td>95826.500000</td>\n",
       "      <td>0.000000</td>\n",
       "      <td>1.000000</td>\n",
       "      <td>11.000000</td>\n",
       "      <td>13.000000</td>\n",
       "      <td>14.000000</td>\n",
       "      <td>15.000000</td>\n",
       "      <td>16.000000</td>\n",
       "      <td>10.000000</td>\n",
       "      <td>1.000000</td>\n",
       "      <td>...</td>\n",
       "      <td>4.000000</td>\n",
       "      <td>4.000000</td>\n",
       "      <td>3.000000</td>\n",
       "      <td>5.000000</td>\n",
       "      <td>9.000000</td>\n",
       "      <td>3.000000</td>\n",
       "      <td>3.000000</td>\n",
       "      <td>0.000000</td>\n",
       "      <td>1.000000</td>\n",
       "      <td>3.000000</td>\n",
       "    </tr>\n",
       "    <tr>\n",
       "      <td>75%</td>\n",
       "      <td>143739.250000</td>\n",
       "      <td>2.000000</td>\n",
       "      <td>1.000000</td>\n",
       "      <td>16.000000</td>\n",
       "      <td>16.000000</td>\n",
       "      <td>16.000000</td>\n",
       "      <td>17.000000</td>\n",
       "      <td>17.000000</td>\n",
       "      <td>13.000000</td>\n",
       "      <td>4.000000</td>\n",
       "      <td>...</td>\n",
       "      <td>7.000000</td>\n",
       "      <td>7.000000</td>\n",
       "      <td>4.000000</td>\n",
       "      <td>6.000000</td>\n",
       "      <td>9.000000</td>\n",
       "      <td>5.000000</td>\n",
       "      <td>3.000000</td>\n",
       "      <td>0.000000</td>\n",
       "      <td>2.000000</td>\n",
       "      <td>4.000000</td>\n",
       "    </tr>\n",
       "    <tr>\n",
       "      <td>max</td>\n",
       "      <td>191652.000000</td>\n",
       "      <td>3.000000</td>\n",
       "      <td>9.000000</td>\n",
       "      <td>21.000000</td>\n",
       "      <td>18.000000</td>\n",
       "      <td>18.000000</td>\n",
       "      <td>18.000000</td>\n",
       "      <td>18.000000</td>\n",
       "      <td>25.000000</td>\n",
       "      <td>523.000000</td>\n",
       "      <td>...</td>\n",
       "      <td>11.000000</td>\n",
       "      <td>13.000000</td>\n",
       "      <td>11.000000</td>\n",
       "      <td>6.000000</td>\n",
       "      <td>9.000000</td>\n",
       "      <td>8.000000</td>\n",
       "      <td>6.000000</td>\n",
       "      <td>1.000000</td>\n",
       "      <td>2.000000</td>\n",
       "      <td>9.000000</td>\n",
       "    </tr>\n",
       "  </tbody>\n",
       "</table>\n",
       "<p>8 rows × 361 columns</p>\n",
       "</div>"
      ],
      "text/plain": [
       "                 LNR       AGER_TYP     AKT_DAT_KL       ALTER_HH  \\\n",
       "count  191652.000000  191652.000000  145056.000000  145056.000000   \n",
       "mean    95826.500000       0.344359       1.747525      11.352009   \n",
       "std     55325.311233       1.391672       1.966334       6.275026   \n",
       "min         1.000000      -1.000000       1.000000       0.000000   \n",
       "25%     47913.750000      -1.000000       1.000000       8.000000   \n",
       "50%     95826.500000       0.000000       1.000000      11.000000   \n",
       "75%    143739.250000       2.000000       1.000000      16.000000   \n",
       "max    191652.000000       3.000000       9.000000      21.000000   \n",
       "\n",
       "        ALTER_KIND1  ALTER_KIND2  ALTER_KIND3  ALTER_KIND4  \\\n",
       "count  11766.000000  5100.000000  1275.000000   236.000000   \n",
       "mean      12.337243    13.672353    14.647059    15.377119   \n",
       "std        4.006050     3.243335     2.753787     2.307653   \n",
       "min        2.000000     2.000000     5.000000     8.000000   \n",
       "25%        9.000000    11.000000    13.000000    14.000000   \n",
       "50%       13.000000    14.000000    15.000000    16.000000   \n",
       "75%       16.000000    16.000000    17.000000    17.000000   \n",
       "max       18.000000    18.000000    18.000000    18.000000   \n",
       "\n",
       "       ALTERSKATEGORIE_FEIN  ANZ_HAUSHALTE_AKTIV  ...       VK_DHT4A  \\\n",
       "count         139810.000000        141725.000000  ...  143781.000000   \n",
       "mean              10.331579             4.965863  ...       4.374417   \n",
       "std                4.134828            14.309694  ...       2.924355   \n",
       "min                0.000000             0.000000  ...       1.000000   \n",
       "25%                9.000000             1.000000  ...       2.000000   \n",
       "50%               10.000000             1.000000  ...       4.000000   \n",
       "75%               13.000000             4.000000  ...       7.000000   \n",
       "max               25.000000           523.000000  ...      11.000000   \n",
       "\n",
       "          VK_DISTANZ        VK_ZG11  W_KEIT_KIND_HH  WOHNDAUER_2008  \\\n",
       "count  143781.000000  143781.000000   137910.000000   145056.000000   \n",
       "mean        4.564769       3.168868        4.152716        8.646371   \n",
       "std         2.887035       2.233516        1.974375        1.154001   \n",
       "min         1.000000       1.000000        0.000000        1.000000   \n",
       "25%         2.000000       1.000000        2.000000        9.000000   \n",
       "50%         4.000000       3.000000        5.000000        9.000000   \n",
       "75%         7.000000       4.000000        6.000000        9.000000   \n",
       "max        13.000000      11.000000        6.000000        9.000000   \n",
       "\n",
       "            WOHNLAGE       ZABEOTYP  ONLINE_PURCHASE      ANREDE_KZ  \\\n",
       "count  141725.000000  191652.000000    191652.000000  191652.000000   \n",
       "mean        3.723133       2.576806         0.090247       1.376432   \n",
       "std         2.095540       1.168486         0.286536       0.484492   \n",
       "min         0.000000       1.000000         0.000000       1.000000   \n",
       "25%         2.000000       1.000000         0.000000       1.000000   \n",
       "50%         3.000000       3.000000         0.000000       1.000000   \n",
       "75%         5.000000       3.000000         0.000000       2.000000   \n",
       "max         8.000000       6.000000         1.000000       2.000000   \n",
       "\n",
       "       ALTERSKATEGORIE_GROB  \n",
       "count         191652.000000  \n",
       "mean               3.060907  \n",
       "std                1.086254  \n",
       "min                1.000000  \n",
       "25%                3.000000  \n",
       "50%                3.000000  \n",
       "75%                4.000000  \n",
       "max                9.000000  \n",
       "\n",
       "[8 rows x 361 columns]"
      ]
     },
     "execution_count": 5,
     "metadata": {},
     "output_type": "execute_result"
    }
   ],
   "source": [
    "customers_data.describe()"
   ]
  },
  {
   "cell_type": "markdown",
   "metadata": {},
   "source": [
    "##### Step 2: Identifying NaNs in the dataset Over Rows and Columns"
   ]
  },
  {
   "cell_type": "code",
   "execution_count": 6,
   "metadata": {},
   "outputs": [],
   "source": [
    "#Identifying the null data (NaN) percentage in the dataset\n",
    "population_data_NaNs = population_data.isnull().sum()\n",
    "population_data_NaNs_Percent = population_data_NaNs / len(population_data) * 100"
   ]
  },
  {
   "cell_type": "code",
   "execution_count": 7,
   "metadata": {},
   "outputs": [
    {
     "data": {
      "text/plain": [
       "ALTER_KIND4                  99.864792\n",
       "ALTER_KIND3                  99.307691\n",
       "ALTER_KIND2                  96.690047\n",
       "ALTER_KIND1                  90.904837\n",
       "EXTSEL992                    73.399639\n",
       "KK_KUNDENTYP                 65.596749\n",
       "ALTERSKATEGORIE_FEIN         29.504130\n",
       "D19_LETZTER_KAUF_BRANCHE     28.849522\n",
       "D19_LOTTO                    28.849522\n",
       "D19_VERSI_ONLINE_QUOTE_12    28.849522\n",
       "dtype: float64"
      ]
     },
     "execution_count": 7,
     "metadata": {},
     "output_type": "execute_result"
    }
   ],
   "source": [
    "#Top 10 Candidates\n",
    "population_data_NaNs_Percent.sort_values(ascending=False).head(10)"
   ]
  },
  {
   "cell_type": "code",
   "execution_count": 8,
   "metadata": {},
   "outputs": [
    {
     "data": {
      "image/png": "[encoded data removed]",
      "text/plain": [
       "<Figure size 720x360 with 1 Axes>"
      ]
     },
     "metadata": {
      "needs_background": "light"
     },
     "output_type": "display_data"
    }
   ],
   "source": [
    "# Visualizig the Null Data\n",
    "plt.figure(figsize=(10,5))\n",
    "plt.hist(population_data_NaNs_Percent, bins = np.linspace(10,100,19), facecolor='r', alpha=0.75)\n",
    "plt.xlabel('Percentage(%) of Missing Values')\n",
    "plt.ylabel('No. of Columns')\n",
    "plt.title('Distribution Of Missing Data Per Column')\n",
    "plt.grid(True)\n",
    "plt.show()"
   ]
  },
  {
   "cell_type": "code",
   "execution_count": 9,
   "metadata": {},
   "outputs": [
    {
     "name": "stdout",
     "output_type": "stream",
     "text": [
      "Total NaNs Per Rows 0         302\n",
      "1        1892\n",
      "2        8880\n",
      "3       28598\n",
      "4      147796\n",
      "        ...  \n",
      "252    845625\n",
      "253    891203\n",
      "256    891204\n",
      "258    891216\n",
      "259    891221\n",
      "Length: 204, dtype: int64\n",
      "Total Rows 891221\n"
     ]
    }
   ],
   "source": [
    "#Get rows with NaNs\n",
    "print('Total NaNs Per Rows',population_data.isnull().sum(axis=1).value_counts().sort_index().cumsum())\n",
    "#get total Rows\n",
    "print('Total Rows', population_data.isnull().sum(axis=1).shape[0])"
   ]
  },
  {
   "cell_type": "code",
   "execution_count": 10,
   "metadata": {},
   "outputs": [
    {
     "name": "stdout",
     "output_type": "stream",
     "text": [
      "Top 15 NaNs Percentage By Row:\n"
     ]
    },
    {
     "data": {
      "text/plain": [
       "(0      0.033886\n",
       " 1      0.212293\n",
       " 2      0.996386\n",
       " 3      3.208856\n",
       " 4     16.583541\n",
       " 5     37.966228\n",
       " 6     56.098543\n",
       " 7     61.873654\n",
       " 8     63.318077\n",
       " 9     63.872934\n",
       " 10    64.066040\n",
       " 11    64.290114\n",
       " 12    64.518565\n",
       " 13    64.701685\n",
       " 14    65.184842\n",
       " dtype: float64, 0)"
      ]
     },
     "execution_count": 10,
     "metadata": {},
     "output_type": "execute_result"
    }
   ],
   "source": [
    "print(\"Top 15 NaNs Percentage By Row:\")\n",
    "population_data.isnull().sum(axis=1).value_counts().sort_index().cumsum()[:15]/population_data.isnull().sum(axis=1).shape[0]*100,0"
   ]
  },
  {
   "cell_type": "code",
   "execution_count": 11,
   "metadata": {},
   "outputs": [],
   "source": [
    "Column_Most_NaNs = population_data.isnull().mean()"
   ]
  },
  {
   "cell_type": "markdown",
   "metadata": {},
   "source": [
    "##### Step 3: Remove NaNs from the Dataset"
   ]
  },
  {
   "cell_type": "code",
   "execution_count": 12,
   "metadata": {},
   "outputs": [
    {
     "name": "stdout",
     "output_type": "stream",
     "text": [
      "New Dataset Size After Removing the Rows:  733227\n"
     ]
    }
   ],
   "source": [
    "#Removing all rows from the datset with threshold less than 16\n",
    "population_data = population_data[population_data.isnull().sum(axis=1) <= 16].reset_index(drop=True)\n",
    "print('New Dataset Size After Removing the Rows: ',population_data.shape[0])"
   ]
  },
  {
   "cell_type": "code",
   "execution_count": 13,
   "metadata": {},
   "outputs": [
    {
     "name": "stdout",
     "output_type": "stream",
     "text": [
      "Columns with NaNs > 65%:  Index(['ALTER_KIND1', 'ALTER_KIND2', 'ALTER_KIND3', 'ALTER_KIND4', 'EXTSEL992',\n",
      "       'KK_KUNDENTYP'],\n",
      "      dtype='object')\n"
     ]
    }
   ],
   "source": [
    "#Removing all columns from the datset with threshold > 65%\n",
    "Cols_To_Be_Dropped = population_data.columns[Column_Most_NaNs > 0.65]\n",
    "print('Columns with NaNs > 65%: ', Cols_To_Be_Dropped)"
   ]
  },
  {
   "cell_type": "code",
   "execution_count": 14,
   "metadata": {},
   "outputs": [
    {
     "name": "stdout",
     "output_type": "stream",
     "text": [
      "No. of column in population_data before dropping:  366\n",
      "No. of column in population_data after dropping:  360\n"
     ]
    }
   ],
   "source": [
    "#Dropping Columns from the population_data \n",
    "print('No. of column in population_data before dropping: ', len(population_data.columns))\n",
    "population_data_orig = population_data\n",
    "population_data = population_data.drop(Cols_To_Be_Dropped,axis=1)\n",
    "print('No. of column in population_data after dropping: ', len(population_data.columns))"
   ]
  },
  {
   "cell_type": "code",
   "execution_count": 15,
   "metadata": {},
   "outputs": [],
   "source": [
    "# Drop the extra column of customers dataset.\n",
    "customers_data.drop(columns=['CUSTOMER_GROUP', 'ONLINE_PURCHASE', 'PRODUCT_GROUP'], inplace=True)"
   ]
  },
  {
   "cell_type": "code",
   "execution_count": 16,
   "metadata": {},
   "outputs": [
    {
     "name": "stdout",
     "output_type": "stream",
     "text": [
      "# of column in customers before dropping:  366\n",
      "# of column in customers after dropping:  360\n"
     ]
    }
   ],
   "source": [
    "print('# of column in customers before dropping: ', len(customers_data.columns))\n",
    "customers_data_orig = customers_data\n",
    "customers_data = customers_data.drop(Cols_To_Be_Dropped,axis=1)\n",
    "print('# of column in customers after dropping: ', len(customers_data.columns))"
   ]
  },
  {
   "cell_type": "code",
   "execution_count": 17,
   "metadata": {},
   "outputs": [
    {
     "name": "stdout",
     "output_type": "stream",
     "text": [
      "Number of rows in new dataset:  (733227, 360)\n",
      "Number of rows in new dataset:  (191652, 360)\n"
     ]
    }
   ],
   "source": [
    "print('Number of rows in new dataset: ',population_data.shape)\n",
    "print('Number of rows in new dataset: ',customers_data.shape)"
   ]
  },
  {
   "cell_type": "code",
   "execution_count": 18,
   "metadata": {},
   "outputs": [],
   "source": [
    "# The column EINGEFUEGT_AM is too spread and diverse\n",
    "population_data = population_data.drop(['EINGEFUEGT_AM'],axis=1)\n",
    "customers_data = customers_data.drop(['EINGEFUEGT_AM'],axis=1)"
   ]
  },
  {
   "cell_type": "code",
   "execution_count": 19,
   "metadata": {},
   "outputs": [],
   "source": [
    "#object field D19_LETZTER_KAUF_BRANCHE is too spread and diverse\n",
    "population_data = population_data.drop(['D19_LETZTER_KAUF_BRANCHE'],axis=1)\n",
    "customers_data = customers_data.drop(['D19_LETZTER_KAUF_BRANCHE'],axis=1)"
   ]
  },
  {
   "cell_type": "code",
   "execution_count": 20,
   "metadata": {},
   "outputs": [],
   "source": [
    "#Remove Highly Co-related Columns from dataset\n",
    "def removeCorelatedColumns(data):\n",
    "    # find correlation matrix    \n",
    "    corr_matrix = data.corr().abs()\n",
    "    upper_limit = corr_matrix.where(np.triu(np.ones(corr_matrix.shape), k=1).astype(np.bool))\n",
    "    # identify columns to drop based on threshold limit\n",
    "    drop_columns = [column for column in upper_limit.columns if any(upper_limit[column] > .7)]\n",
    "    # drop columns from azdias\n",
    "    data = data.drop(drop_columns, axis=1)\n",
    "    return data\n",
    "    "
   ]
  },
  {
   "cell_type": "code",
   "execution_count": 21,
   "metadata": {},
   "outputs": [
    {
     "name": "stdout",
     "output_type": "stream",
     "text": [
      "New No. of Columns, population_data 238\n",
      "CPU times: user 2min 33s, sys: 13 s, total: 2min 46s\n",
      "Wall time: 2min 41s\n"
     ]
    }
   ],
   "source": [
    "%%time\n",
    "print('New No. of Columns, population_data', len(removeCorelatedColumns(population_data).columns))"
   ]
  },
  {
   "cell_type": "code",
   "execution_count": 22,
   "metadata": {},
   "outputs": [
    {
     "name": "stdout",
     "output_type": "stream",
     "text": [
      "New No. of Columns, customers_data 256\n",
      "CPU times: user 1min, sys: 995 ms, total: 1min 1s\n",
      "Wall time: 1min 1s\n"
     ]
    }
   ],
   "source": [
    "%%time\n",
    "print('New No. of Columns, customers_data', len(removeCorelatedColumns(customers_data).columns))"
   ]
  },
  {
   "cell_type": "code",
   "execution_count": 23,
   "metadata": {},
   "outputs": [
    {
     "name": "stdout",
     "output_type": "stream",
     "text": [
      "Number of rows after removing correlated columns,population_data:  (733227, 358)\n",
      "Number of rows after removing correlated columns,customers_data:  (191652, 358)\n"
     ]
    }
   ],
   "source": [
    "print('Number of rows after removing correlated columns,population_data: ',population_data.shape)\n",
    "print('Number of rows after removing correlated columns,customers_data: ',customers_data.shape)"
   ]
  },
  {
   "cell_type": "markdown",
   "metadata": {},
   "source": [
    "#### Step 4: Handle the remaining NaNs in the dataset"
   ]
  },
  {
   "cell_type": "code",
   "execution_count": 24,
   "metadata": {},
   "outputs": [
    {
     "data": {
      "text/html": [
       "<div>\n",
       "<style scoped>\n",
       "    .dataframe tbody tr th:only-of-type {\n",
       "        vertical-align: middle;\n",
       "    }\n",
       "\n",
       "    .dataframe tbody tr th {\n",
       "        vertical-align: top;\n",
       "    }\n",
       "\n",
       "    .dataframe thead th {\n",
       "        text-align: right;\n",
       "    }\n",
       "</style>\n",
       "<table border=\"1\" class=\"dataframe\">\n",
       "  <thead>\n",
       "    <tr style=\"text-align: right;\">\n",
       "      <th></th>\n",
       "      <th>CAMEO_DEU_2015</th>\n",
       "      <th>CAMEO_DEUG_2015</th>\n",
       "      <th>CAMEO_INTL_2015</th>\n",
       "      <th>OST_WEST_KZ</th>\n",
       "    </tr>\n",
       "  </thead>\n",
       "  <tbody>\n",
       "    <tr>\n",
       "      <td>0</td>\n",
       "      <td>8A</td>\n",
       "      <td>8</td>\n",
       "      <td>51</td>\n",
       "      <td>W</td>\n",
       "    </tr>\n",
       "    <tr>\n",
       "      <td>1</td>\n",
       "      <td>4C</td>\n",
       "      <td>4</td>\n",
       "      <td>24</td>\n",
       "      <td>W</td>\n",
       "    </tr>\n",
       "    <tr>\n",
       "      <td>2</td>\n",
       "      <td>2A</td>\n",
       "      <td>2</td>\n",
       "      <td>12</td>\n",
       "      <td>W</td>\n",
       "    </tr>\n",
       "    <tr>\n",
       "      <td>3</td>\n",
       "      <td>6B</td>\n",
       "      <td>6</td>\n",
       "      <td>43</td>\n",
       "      <td>W</td>\n",
       "    </tr>\n",
       "    <tr>\n",
       "      <td>4</td>\n",
       "      <td>8C</td>\n",
       "      <td>8</td>\n",
       "      <td>54</td>\n",
       "      <td>W</td>\n",
       "    </tr>\n",
       "    <tr>\n",
       "      <td>...</td>\n",
       "      <td>...</td>\n",
       "      <td>...</td>\n",
       "      <td>...</td>\n",
       "      <td>...</td>\n",
       "    </tr>\n",
       "    <tr>\n",
       "      <td>733222</td>\n",
       "      <td>7A</td>\n",
       "      <td>7</td>\n",
       "      <td>41</td>\n",
       "      <td>W</td>\n",
       "    </tr>\n",
       "    <tr>\n",
       "      <td>733223</td>\n",
       "      <td>9D</td>\n",
       "      <td>9</td>\n",
       "      <td>51</td>\n",
       "      <td>W</td>\n",
       "    </tr>\n",
       "    <tr>\n",
       "      <td>733224</td>\n",
       "      <td>4C</td>\n",
       "      <td>4</td>\n",
       "      <td>24</td>\n",
       "      <td>W</td>\n",
       "    </tr>\n",
       "    <tr>\n",
       "      <td>733225</td>\n",
       "      <td>9D</td>\n",
       "      <td>9</td>\n",
       "      <td>51</td>\n",
       "      <td>W</td>\n",
       "    </tr>\n",
       "    <tr>\n",
       "      <td>733226</td>\n",
       "      <td>6B</td>\n",
       "      <td>6</td>\n",
       "      <td>43</td>\n",
       "      <td>W</td>\n",
       "    </tr>\n",
       "  </tbody>\n",
       "</table>\n",
       "<p>733227 rows × 4 columns</p>\n",
       "</div>"
      ],
      "text/plain": [
       "       CAMEO_DEU_2015 CAMEO_DEUG_2015 CAMEO_INTL_2015 OST_WEST_KZ\n",
       "0                  8A               8              51           W\n",
       "1                  4C               4              24           W\n",
       "2                  2A               2              12           W\n",
       "3                  6B               6              43           W\n",
       "4                  8C               8              54           W\n",
       "...               ...             ...             ...         ...\n",
       "733222             7A               7              41           W\n",
       "733223             9D               9              51           W\n",
       "733224             4C               4              24           W\n",
       "733225             9D               9              51           W\n",
       "733226             6B               6              43           W\n",
       "\n",
       "[733227 rows x 4 columns]"
      ]
     },
     "execution_count": 24,
     "metadata": {},
     "output_type": "execute_result"
    }
   ],
   "source": [
    "#Let's explore data type in population_data\n",
    "population_data.select_dtypes(include=['object'])"
   ]
  },
  {
   "cell_type": "code",
   "execution_count": 25,
   "metadata": {
    "scrolled": true
   },
   "outputs": [
    {
     "name": "stdout",
     "output_type": "stream",
     "text": [
      "New Number of Columns in population_data 358\n"
     ]
    }
   ],
   "source": [
    "print('New Number of Columns in population_data', len(population_data.columns))"
   ]
  },
  {
   "cell_type": "code",
   "execution_count": 26,
   "metadata": {},
   "outputs": [
    {
     "data": {
      "text/html": [
       "<div>\n",
       "<style scoped>\n",
       "    .dataframe tbody tr th:only-of-type {\n",
       "        vertical-align: middle;\n",
       "    }\n",
       "\n",
       "    .dataframe tbody tr th {\n",
       "        vertical-align: top;\n",
       "    }\n",
       "\n",
       "    .dataframe thead th {\n",
       "        text-align: right;\n",
       "    }\n",
       "</style>\n",
       "<table border=\"1\" class=\"dataframe\">\n",
       "  <thead>\n",
       "    <tr style=\"text-align: right;\">\n",
       "      <th></th>\n",
       "      <th>CAMEO_DEU_2015</th>\n",
       "      <th>CAMEO_DEUG_2015</th>\n",
       "      <th>CAMEO_INTL_2015</th>\n",
       "      <th>OST_WEST_KZ</th>\n",
       "    </tr>\n",
       "  </thead>\n",
       "  <tbody>\n",
       "    <tr>\n",
       "      <td>0</td>\n",
       "      <td>1A</td>\n",
       "      <td>1</td>\n",
       "      <td>13</td>\n",
       "      <td>W</td>\n",
       "    </tr>\n",
       "    <tr>\n",
       "      <td>1</td>\n",
       "      <td>NaN</td>\n",
       "      <td>NaN</td>\n",
       "      <td>NaN</td>\n",
       "      <td>NaN</td>\n",
       "    </tr>\n",
       "    <tr>\n",
       "      <td>2</td>\n",
       "      <td>5D</td>\n",
       "      <td>5</td>\n",
       "      <td>34</td>\n",
       "      <td>W</td>\n",
       "    </tr>\n",
       "    <tr>\n",
       "      <td>3</td>\n",
       "      <td>4C</td>\n",
       "      <td>4</td>\n",
       "      <td>24</td>\n",
       "      <td>W</td>\n",
       "    </tr>\n",
       "    <tr>\n",
       "      <td>4</td>\n",
       "      <td>7B</td>\n",
       "      <td>7</td>\n",
       "      <td>41</td>\n",
       "      <td>W</td>\n",
       "    </tr>\n",
       "  </tbody>\n",
       "</table>\n",
       "</div>"
      ],
      "text/plain": [
       "  CAMEO_DEU_2015 CAMEO_DEUG_2015 CAMEO_INTL_2015 OST_WEST_KZ\n",
       "0             1A               1              13           W\n",
       "1            NaN             NaN             NaN         NaN\n",
       "2             5D               5              34           W\n",
       "3             4C               4              24           W\n",
       "4             7B               7              41           W"
      ]
     },
     "execution_count": 26,
     "metadata": {},
     "output_type": "execute_result"
    }
   ],
   "source": [
    "#Let's explore data type in customers_data\n",
    "customers_data.select_dtypes(include=['object']).head()"
   ]
  },
  {
   "cell_type": "code",
   "execution_count": 28,
   "metadata": {},
   "outputs": [
    {
     "name": "stdout",
     "output_type": "stream",
     "text": [
      "Numeric Columns:  Index(['LNR', 'AGER_TYP', 'AKT_DAT_KL', 'ALTER_HH', 'ALTERSKATEGORIE_FEIN',\n",
      "       'ANZ_HAUSHALTE_AKTIV', 'ANZ_HH_TITEL', 'ANZ_KINDER', 'ANZ_PERSONEN',\n",
      "       'ANZ_STATISTISCHE_HAUSHALTE',\n",
      "       ...\n",
      "       'VHN', 'VK_DHT4A', 'VK_DISTANZ', 'VK_ZG11', 'W_KEIT_KIND_HH',\n",
      "       'WOHNDAUER_2008', 'WOHNLAGE', 'ZABEOTYP', 'ANREDE_KZ',\n",
      "       'ALTERSKATEGORIE_GROB'],\n",
      "      dtype='object', length=354)\n",
      "Categorical Columns:  ['CAMEO_DEUG_2015', 'OST_WEST_KZ', 'CAMEO_INTL_2015', 'CAMEO_DEU_2015']\n"
     ]
    }
   ],
   "source": [
    "# Identify Numeric and Categorical Columns\n",
    "population_columns = population_data.columns\n",
    "numeric_columns = population_data._get_numeric_data().columns\n",
    "print('Numeric Columns: ',numeric_columns)\n",
    "print('Categorical Columns: ',list(set(population_columns) - set(numeric_columns)))"
   ]
  },
  {
   "cell_type": "code",
   "execution_count": 29,
   "metadata": {},
   "outputs": [],
   "source": [
    "#Filling the Missing NaNs\n",
    "population_data[['CAMEO_DEUG_2015','CAMEO_INTL_2015']] = population_data[['CAMEO_DEUG_2015','CAMEO_INTL_2015']].replace(['X','XX'],-1)\n",
    "customers_data[['CAMEO_DEUG_2015','CAMEO_INTL_2015']] = customers_data[['CAMEO_DEUG_2015','CAMEO_INTL_2015']].replace(['X','XX'],-1)\n",
    "population_data[['CAMEO_DEUG_2015','CAMEO_INTL_2015']] = population_data[['CAMEO_DEUG_2015','CAMEO_INTL_2015']].fillna(-1)\n",
    "customers_data[['CAMEO_DEUG_2015','CAMEO_INTL_2015']] = customers_data[['CAMEO_DEUG_2015','CAMEO_INTL_2015']].fillna(-1)\n",
    "population_data[['CAMEO_DEUG_2015','CAMEO_INTL_2015']] = population_data[['CAMEO_DEUG_2015','CAMEO_INTL_2015']].astype(int)\n",
    "customers_data[['CAMEO_DEUG_2015','CAMEO_INTL_2015']] = customers_data[['CAMEO_DEUG_2015','CAMEO_INTL_2015']].astype(int)\n",
    "population_data[['CAMEO_DEU_2015','OST_WEST_KZ']]=population_data[['CAMEO_DEU_2015','OST_WEST_KZ']].fillna(-1)\n",
    "customers_data[['CAMEO_DEU_2015','OST_WEST_KZ']]=customers_data[['CAMEO_DEU_2015','OST_WEST_KZ']].fillna(-1)"
   ]
  },
  {
   "cell_type": "code",
   "execution_count": 30,
   "metadata": {},
   "outputs": [
    {
     "data": {
      "text/plain": [
       "LNR                         0\n",
       "AGER_TYP                    0\n",
       "AKT_DAT_KL              46596\n",
       "ALTER_HH                46596\n",
       "ALTERSKATEGORIE_FEIN    51842\n",
       "                        ...  \n",
       "WOHNDAUER_2008          46596\n",
       "WOHNLAGE                49927\n",
       "ZABEOTYP                    0\n",
       "ANREDE_KZ                   0\n",
       "ALTERSKATEGORIE_GROB        0\n",
       "Length: 358, dtype: int64"
      ]
     },
     "execution_count": 30,
     "metadata": {},
     "output_type": "execute_result"
    }
   ],
   "source": [
    "customers_data.isnull().sum()"
   ]
  },
  {
   "cell_type": "code",
   "execution_count": 31,
   "metadata": {},
   "outputs": [
    {
     "data": {
      "text/plain": [
       "LNR                          0\n",
       "AGER_TYP                     0\n",
       "AKT_DAT_KL                   0\n",
       "ALTER_HH                     0\n",
       "ALTERSKATEGORIE_FEIN    167182\n",
       "                         ...  \n",
       "WOHNDAUER_2008               0\n",
       "WOHNLAGE                     0\n",
       "ZABEOTYP                     0\n",
       "ANREDE_KZ                    0\n",
       "ALTERSKATEGORIE_GROB         0\n",
       "Length: 358, dtype: int64"
      ]
     },
     "execution_count": 31,
     "metadata": {},
     "output_type": "execute_result"
    }
   ],
   "source": [
    "population_data.isnull().sum()"
   ]
  },
  {
   "cell_type": "code",
   "execution_count": 33,
   "metadata": {},
   "outputs": [],
   "source": [
    "\n",
    "# fillna for fields with unknown values\n",
    "population_data[population_data.columns[(population_data==9).any()]] = population_data[population_data.columns[(population_data==9).any()]].fillna(9)\n",
    "customers_data[customers_data.columns[(customers_data==9).any()]] = customers_data[customers_data.columns[(customers_data==9).any()]].fillna(9)\n",
    "\n",
    "population_data[population_data.columns[(population_data==0).any()]] = population_data[population_data.columns[(population_data==0).any()]].fillna(0)\n",
    "customers_data[customers_data.columns[(customers_data==0).any()]] = customers_data[customers_data.columns[(customers_data==0).any()]].fillna(0)\n",
    "\n",
    "population_data[population_data.columns[(population_data==-1).any()]] = population_data[population_data.columns[(population_data==-1).any()]].fillna(-1)\n",
    "customers_data[customers_data.columns[(customers_data==-1).any()]] = customers_data[customers_data.columns[(customers_data==-1).any()]].fillna(-1)"
   ]
  },
  {
   "cell_type": "code",
   "execution_count": 34,
   "metadata": {},
   "outputs": [],
   "source": [
    "#Handle dummy column trap while encoding\n",
    "population_data = pd.get_dummies(population_data)\n",
    "customers_data = pd.get_dummies(customers_data)"
   ]
  },
  {
   "cell_type": "code",
   "execution_count": 35,
   "metadata": {},
   "outputs": [
    {
     "ename": "ValueError",
     "evalue": "Cannot convert non-finite values (NA or inf) to integer",
     "output_type": "error",
     "traceback": [
      "\u001b[0;31m---------------------------------------------------------------------------\u001b[0m",
      "\u001b[0;31mValueError\u001b[0m                                Traceback (most recent call last)",
      "\u001b[0;32m<ipython-input-35-8a35b245b050>\u001b[0m in \u001b[0;36m<module>\u001b[0;34m\u001b[0m\n\u001b[1;32m      1\u001b[0m \u001b[0;31m#convert to int\u001b[0m\u001b[0;34m\u001b[0m\u001b[0;34m\u001b[0m\u001b[0;34m\u001b[0m\u001b[0m\n\u001b[0;32m----> 2\u001b[0;31m \u001b[0mpopulation_data\u001b[0m \u001b[0;34m=\u001b[0m \u001b[0mpopulation_data\u001b[0m\u001b[0;34m.\u001b[0m\u001b[0mastype\u001b[0m\u001b[0;34m(\u001b[0m\u001b[0mint\u001b[0m\u001b[0;34m)\u001b[0m\u001b[0;34m\u001b[0m\u001b[0;34m\u001b[0m\u001b[0m\n\u001b[0m\u001b[1;32m      3\u001b[0m \u001b[0mcustomers_data\u001b[0m \u001b[0;34m=\u001b[0m \u001b[0mcustomers_data\u001b[0m\u001b[0;34m.\u001b[0m\u001b[0mastype\u001b[0m\u001b[0;34m(\u001b[0m\u001b[0mint\u001b[0m\u001b[0;34m)\u001b[0m\u001b[0;34m\u001b[0m\u001b[0;34m\u001b[0m\u001b[0m\n",
      "\u001b[0;32m~/opt/anaconda3/envs/ML_Environment/lib/python3.6/site-packages/pandas/core/generic.py\u001b[0m in \u001b[0;36mastype\u001b[0;34m(self, dtype, copy, errors, **kwargs)\u001b[0m\n\u001b[1;32m   5880\u001b[0m             \u001b[0;31m# else, only a single dtype is given\u001b[0m\u001b[0;34m\u001b[0m\u001b[0;34m\u001b[0m\u001b[0;34m\u001b[0m\u001b[0m\n\u001b[1;32m   5881\u001b[0m             new_data = self._data.astype(\n\u001b[0;32m-> 5882\u001b[0;31m                 \u001b[0mdtype\u001b[0m\u001b[0;34m=\u001b[0m\u001b[0mdtype\u001b[0m\u001b[0;34m,\u001b[0m \u001b[0mcopy\u001b[0m\u001b[0;34m=\u001b[0m\u001b[0mcopy\u001b[0m\u001b[0;34m,\u001b[0m \u001b[0merrors\u001b[0m\u001b[0;34m=\u001b[0m\u001b[0merrors\u001b[0m\u001b[0;34m,\u001b[0m \u001b[0;34m**\u001b[0m\u001b[0mkwargs\u001b[0m\u001b[0;34m\u001b[0m\u001b[0;34m\u001b[0m\u001b[0m\n\u001b[0m\u001b[1;32m   5883\u001b[0m             )\n\u001b[1;32m   5884\u001b[0m             \u001b[0;32mreturn\u001b[0m \u001b[0mself\u001b[0m\u001b[0;34m.\u001b[0m\u001b[0m_constructor\u001b[0m\u001b[0;34m(\u001b[0m\u001b[0mnew_data\u001b[0m\u001b[0;34m)\u001b[0m\u001b[0;34m.\u001b[0m\u001b[0m__finalize__\u001b[0m\u001b[0;34m(\u001b[0m\u001b[0mself\u001b[0m\u001b[0;34m)\u001b[0m\u001b[0;34m\u001b[0m\u001b[0;34m\u001b[0m\u001b[0m\n",
      "\u001b[0;32m~/opt/anaconda3/envs/ML_Environment/lib/python3.6/site-packages/pandas/core/internals/managers.py\u001b[0m in \u001b[0;36mastype\u001b[0;34m(self, dtype, **kwargs)\u001b[0m\n\u001b[1;32m    579\u001b[0m \u001b[0;34m\u001b[0m\u001b[0m\n\u001b[1;32m    580\u001b[0m     \u001b[0;32mdef\u001b[0m \u001b[0mastype\u001b[0m\u001b[0;34m(\u001b[0m\u001b[0mself\u001b[0m\u001b[0;34m,\u001b[0m \u001b[0mdtype\u001b[0m\u001b[0;34m,\u001b[0m \u001b[0;34m**\u001b[0m\u001b[0mkwargs\u001b[0m\u001b[0;34m)\u001b[0m\u001b[0;34m:\u001b[0m\u001b[0;34m\u001b[0m\u001b[0;34m\u001b[0m\u001b[0m\n\u001b[0;32m--> 581\u001b[0;31m         \u001b[0;32mreturn\u001b[0m \u001b[0mself\u001b[0m\u001b[0;34m.\u001b[0m\u001b[0mapply\u001b[0m\u001b[0;34m(\u001b[0m\u001b[0;34m\"astype\"\u001b[0m\u001b[0;34m,\u001b[0m \u001b[0mdtype\u001b[0m\u001b[0;34m=\u001b[0m\u001b[0mdtype\u001b[0m\u001b[0;34m,\u001b[0m \u001b[0;34m**\u001b[0m\u001b[0mkwargs\u001b[0m\u001b[0;34m)\u001b[0m\u001b[0;34m\u001b[0m\u001b[0;34m\u001b[0m\u001b[0m\n\u001b[0m\u001b[1;32m    582\u001b[0m \u001b[0;34m\u001b[0m\u001b[0m\n\u001b[1;32m    583\u001b[0m     \u001b[0;32mdef\u001b[0m \u001b[0mconvert\u001b[0m\u001b[0;34m(\u001b[0m\u001b[0mself\u001b[0m\u001b[0;34m,\u001b[0m \u001b[0;34m**\u001b[0m\u001b[0mkwargs\u001b[0m\u001b[0;34m)\u001b[0m\u001b[0;34m:\u001b[0m\u001b[0;34m\u001b[0m\u001b[0;34m\u001b[0m\u001b[0m\n",
      "\u001b[0;32m~/opt/anaconda3/envs/ML_Environment/lib/python3.6/site-packages/pandas/core/internals/managers.py\u001b[0m in \u001b[0;36mapply\u001b[0;34m(self, f, axes, filter, do_integrity_check, consolidate, **kwargs)\u001b[0m\n\u001b[1;32m    436\u001b[0m                     \u001b[0mkwargs\u001b[0m\u001b[0;34m[\u001b[0m\u001b[0mk\u001b[0m\u001b[0;34m]\u001b[0m \u001b[0;34m=\u001b[0m \u001b[0mobj\u001b[0m\u001b[0;34m.\u001b[0m\u001b[0mreindex\u001b[0m\u001b[0;34m(\u001b[0m\u001b[0mb_items\u001b[0m\u001b[0;34m,\u001b[0m \u001b[0maxis\u001b[0m\u001b[0;34m=\u001b[0m\u001b[0maxis\u001b[0m\u001b[0;34m,\u001b[0m \u001b[0mcopy\u001b[0m\u001b[0;34m=\u001b[0m\u001b[0malign_copy\u001b[0m\u001b[0;34m)\u001b[0m\u001b[0;34m\u001b[0m\u001b[0;34m\u001b[0m\u001b[0m\n\u001b[1;32m    437\u001b[0m \u001b[0;34m\u001b[0m\u001b[0m\n\u001b[0;32m--> 438\u001b[0;31m             \u001b[0mapplied\u001b[0m \u001b[0;34m=\u001b[0m \u001b[0mgetattr\u001b[0m\u001b[0;34m(\u001b[0m\u001b[0mb\u001b[0m\u001b[0;34m,\u001b[0m \u001b[0mf\u001b[0m\u001b[0;34m)\u001b[0m\u001b[0;34m(\u001b[0m\u001b[0;34m**\u001b[0m\u001b[0mkwargs\u001b[0m\u001b[0;34m)\u001b[0m\u001b[0;34m\u001b[0m\u001b[0;34m\u001b[0m\u001b[0m\n\u001b[0m\u001b[1;32m    439\u001b[0m             \u001b[0mresult_blocks\u001b[0m \u001b[0;34m=\u001b[0m \u001b[0m_extend_blocks\u001b[0m\u001b[0;34m(\u001b[0m\u001b[0mapplied\u001b[0m\u001b[0;34m,\u001b[0m \u001b[0mresult_blocks\u001b[0m\u001b[0;34m)\u001b[0m\u001b[0;34m\u001b[0m\u001b[0;34m\u001b[0m\u001b[0m\n\u001b[1;32m    440\u001b[0m \u001b[0;34m\u001b[0m\u001b[0m\n",
      "\u001b[0;32m~/opt/anaconda3/envs/ML_Environment/lib/python3.6/site-packages/pandas/core/internals/blocks.py\u001b[0m in \u001b[0;36mastype\u001b[0;34m(self, dtype, copy, errors, values, **kwargs)\u001b[0m\n\u001b[1;32m    557\u001b[0m \u001b[0;34m\u001b[0m\u001b[0m\n\u001b[1;32m    558\u001b[0m     \u001b[0;32mdef\u001b[0m \u001b[0mastype\u001b[0m\u001b[0;34m(\u001b[0m\u001b[0mself\u001b[0m\u001b[0;34m,\u001b[0m \u001b[0mdtype\u001b[0m\u001b[0;34m,\u001b[0m \u001b[0mcopy\u001b[0m\u001b[0;34m=\u001b[0m\u001b[0;32mFalse\u001b[0m\u001b[0;34m,\u001b[0m \u001b[0merrors\u001b[0m\u001b[0;34m=\u001b[0m\u001b[0;34m\"raise\"\u001b[0m\u001b[0;34m,\u001b[0m \u001b[0mvalues\u001b[0m\u001b[0;34m=\u001b[0m\u001b[0;32mNone\u001b[0m\u001b[0;34m,\u001b[0m \u001b[0;34m**\u001b[0m\u001b[0mkwargs\u001b[0m\u001b[0;34m)\u001b[0m\u001b[0;34m:\u001b[0m\u001b[0;34m\u001b[0m\u001b[0;34m\u001b[0m\u001b[0m\n\u001b[0;32m--> 559\u001b[0;31m         \u001b[0;32mreturn\u001b[0m \u001b[0mself\u001b[0m\u001b[0;34m.\u001b[0m\u001b[0m_astype\u001b[0m\u001b[0;34m(\u001b[0m\u001b[0mdtype\u001b[0m\u001b[0;34m,\u001b[0m \u001b[0mcopy\u001b[0m\u001b[0;34m=\u001b[0m\u001b[0mcopy\u001b[0m\u001b[0;34m,\u001b[0m \u001b[0merrors\u001b[0m\u001b[0;34m=\u001b[0m\u001b[0merrors\u001b[0m\u001b[0;34m,\u001b[0m \u001b[0mvalues\u001b[0m\u001b[0;34m=\u001b[0m\u001b[0mvalues\u001b[0m\u001b[0;34m,\u001b[0m \u001b[0;34m**\u001b[0m\u001b[0mkwargs\u001b[0m\u001b[0;34m)\u001b[0m\u001b[0;34m\u001b[0m\u001b[0;34m\u001b[0m\u001b[0m\n\u001b[0m\u001b[1;32m    560\u001b[0m \u001b[0;34m\u001b[0m\u001b[0m\n\u001b[1;32m    561\u001b[0m     \u001b[0;32mdef\u001b[0m \u001b[0m_astype\u001b[0m\u001b[0;34m(\u001b[0m\u001b[0mself\u001b[0m\u001b[0;34m,\u001b[0m \u001b[0mdtype\u001b[0m\u001b[0;34m,\u001b[0m \u001b[0mcopy\u001b[0m\u001b[0;34m=\u001b[0m\u001b[0;32mFalse\u001b[0m\u001b[0;34m,\u001b[0m \u001b[0merrors\u001b[0m\u001b[0;34m=\u001b[0m\u001b[0;34m\"raise\"\u001b[0m\u001b[0;34m,\u001b[0m \u001b[0mvalues\u001b[0m\u001b[0;34m=\u001b[0m\u001b[0;32mNone\u001b[0m\u001b[0;34m,\u001b[0m \u001b[0;34m**\u001b[0m\u001b[0mkwargs\u001b[0m\u001b[0;34m)\u001b[0m\u001b[0;34m:\u001b[0m\u001b[0;34m\u001b[0m\u001b[0;34m\u001b[0m\u001b[0m\n",
      "\u001b[0;32m~/opt/anaconda3/envs/ML_Environment/lib/python3.6/site-packages/pandas/core/internals/blocks.py\u001b[0m in \u001b[0;36m_astype\u001b[0;34m(self, dtype, copy, errors, values, **kwargs)\u001b[0m\n\u001b[1;32m    641\u001b[0m                     \u001b[0;31m# _astype_nansafe works fine with 1-d only\u001b[0m\u001b[0;34m\u001b[0m\u001b[0;34m\u001b[0m\u001b[0;34m\u001b[0m\u001b[0m\n\u001b[1;32m    642\u001b[0m                     \u001b[0mvals1d\u001b[0m \u001b[0;34m=\u001b[0m \u001b[0mvalues\u001b[0m\u001b[0;34m.\u001b[0m\u001b[0mravel\u001b[0m\u001b[0;34m(\u001b[0m\u001b[0;34m)\u001b[0m\u001b[0;34m\u001b[0m\u001b[0;34m\u001b[0m\u001b[0m\n\u001b[0;32m--> 643\u001b[0;31m                     \u001b[0mvalues\u001b[0m \u001b[0;34m=\u001b[0m \u001b[0mastype_nansafe\u001b[0m\u001b[0;34m(\u001b[0m\u001b[0mvals1d\u001b[0m\u001b[0;34m,\u001b[0m \u001b[0mdtype\u001b[0m\u001b[0;34m,\u001b[0m \u001b[0mcopy\u001b[0m\u001b[0;34m=\u001b[0m\u001b[0;32mTrue\u001b[0m\u001b[0;34m,\u001b[0m \u001b[0;34m**\u001b[0m\u001b[0mkwargs\u001b[0m\u001b[0;34m)\u001b[0m\u001b[0;34m\u001b[0m\u001b[0;34m\u001b[0m\u001b[0m\n\u001b[0m\u001b[1;32m    644\u001b[0m \u001b[0;34m\u001b[0m\u001b[0m\n\u001b[1;32m    645\u001b[0m                 \u001b[0;31m# TODO(extension)\u001b[0m\u001b[0;34m\u001b[0m\u001b[0;34m\u001b[0m\u001b[0;34m\u001b[0m\u001b[0m\n",
      "\u001b[0;32m~/opt/anaconda3/envs/ML_Environment/lib/python3.6/site-packages/pandas/core/dtypes/cast.py\u001b[0m in \u001b[0;36mastype_nansafe\u001b[0;34m(arr, dtype, copy, skipna)\u001b[0m\n\u001b[1;32m    698\u001b[0m         \u001b[0;32mif\u001b[0m \u001b[0;32mnot\u001b[0m \u001b[0mnp\u001b[0m\u001b[0;34m.\u001b[0m\u001b[0misfinite\u001b[0m\u001b[0;34m(\u001b[0m\u001b[0marr\u001b[0m\u001b[0;34m)\u001b[0m\u001b[0;34m.\u001b[0m\u001b[0mall\u001b[0m\u001b[0;34m(\u001b[0m\u001b[0;34m)\u001b[0m\u001b[0;34m:\u001b[0m\u001b[0;34m\u001b[0m\u001b[0;34m\u001b[0m\u001b[0m\n\u001b[1;32m    699\u001b[0m             raise ValueError(\n\u001b[0;32m--> 700\u001b[0;31m                 \u001b[0;34m\"Cannot convert non-finite values (NA or inf) to \"\u001b[0m \u001b[0;34m\"integer\"\u001b[0m\u001b[0;34m\u001b[0m\u001b[0;34m\u001b[0m\u001b[0m\n\u001b[0m\u001b[1;32m    701\u001b[0m             )\n\u001b[1;32m    702\u001b[0m \u001b[0;34m\u001b[0m\u001b[0m\n",
      "\u001b[0;31mValueError\u001b[0m: Cannot convert non-finite values (NA or inf) to integer"
     ]
    }
   ],
   "source": [
    "#convert to int\n",
    "population_data = population_data.astype(int)\n",
    "customers_data = customers_data.astype(int)"
   ]
  },
  {
   "cell_type": "code",
   "execution_count": 36,
   "metadata": {},
   "outputs": [
    {
     "name": "stdout",
     "output_type": "stream",
     "text": [
      "Number of Rows in New Dataset, population_data:  (733227, 404)\n",
      "Number of Rows in New Dataset, customers_data:  (191652, 405)\n"
     ]
    }
   ],
   "source": [
    "print('Number of Rows in New Dataset, population_data: ',population_data.shape)\n",
    "print('Number of Rows in New Dataset, customers_data: ',customers_data.shape)"
   ]
  },
  {
   "cell_type": "code",
   "execution_count": 37,
   "metadata": {},
   "outputs": [
    {
     "name": "stdout",
     "output_type": "stream",
     "text": [
      "Index(['LNR', 'AGER_TYP', 'AKT_DAT_KL', 'ALTER_HH', 'ALTERSKATEGORIE_FEIN',\n",
      "       'ANZ_HAUSHALTE_AKTIV', 'ANZ_HH_TITEL', 'ANZ_KINDER', 'ANZ_PERSONEN',\n",
      "       'ANZ_STATISTISCHE_HAUSHALTE',\n",
      "       ...\n",
      "       'CAMEO_DEU_2015_8C', 'CAMEO_DEU_2015_8D', 'CAMEO_DEU_2015_9A',\n",
      "       'CAMEO_DEU_2015_9B', 'CAMEO_DEU_2015_9C', 'CAMEO_DEU_2015_9D',\n",
      "       'CAMEO_DEU_2015_9E', 'CAMEO_DEU_2015_XX', 'OST_WEST_KZ_O',\n",
      "       'OST_WEST_KZ_W'],\n",
      "      dtype='object', length=404)\n"
     ]
    }
   ],
   "source": [
    "print(population_data.columns)"
   ]
  },
  {
   "cell_type": "code",
   "execution_count": 38,
   "metadata": {},
   "outputs": [
    {
     "name": "stdout",
     "output_type": "stream",
     "text": [
      "Index(['LNR', 'AGER_TYP', 'AKT_DAT_KL', 'ALTER_HH', 'ALTERSKATEGORIE_FEIN',\n",
      "       'ANZ_HAUSHALTE_AKTIV', 'ANZ_HH_TITEL', 'ANZ_KINDER', 'ANZ_PERSONEN',\n",
      "       'ANZ_STATISTISCHE_HAUSHALTE',\n",
      "       ...\n",
      "       'CAMEO_DEU_2015_8D', 'CAMEO_DEU_2015_9A', 'CAMEO_DEU_2015_9B',\n",
      "       'CAMEO_DEU_2015_9C', 'CAMEO_DEU_2015_9D', 'CAMEO_DEU_2015_9E',\n",
      "       'CAMEO_DEU_2015_XX', 'OST_WEST_KZ_-1', 'OST_WEST_KZ_O',\n",
      "       'OST_WEST_KZ_W'],\n",
      "      dtype='object', length=405)\n"
     ]
    }
   ],
   "source": [
    "print(customers_data.columns)"
   ]
  },
  {
   "cell_type": "code",
   "execution_count": 39,
   "metadata": {},
   "outputs": [],
   "source": [
    "population_columns = population_data.columns\n",
    "customers_columns = customers_data.columns"
   ]
  },
  {
   "cell_type": "code",
   "execution_count": 40,
   "metadata": {},
   "outputs": [
    {
     "name": "stderr",
     "output_type": "stream",
     "text": [
      "/Users/dinesh/opt/anaconda3/envs/ML_Environment/lib/python3.6/site-packages/sklearn/utils/deprecation.py:66: DeprecationWarning: Class Imputer is deprecated; Imputer was deprecated in version 0.20 and will be removed in 0.22. Import impute.SimpleImputer from sklearn instead.\n",
      "  warnings.warn(msg, category=DeprecationWarning)\n"
     ]
    },
    {
     "name": "stdout",
     "output_type": "stream",
     "text": [
      "imputed population_data:          0    1    2     3     4     5    6    7    8     9    ...  394  395  \\\n",
      "0  910220.0 -1.0  9.0   0.0  21.0  11.0  0.0  0.0  2.0  12.0  ...  0.0  0.0   \n",
      "1  910225.0 -1.0  9.0  17.0  17.0  10.0  0.0  0.0  1.0   7.0  ...  0.0  0.0   \n",
      "2  910226.0  2.0  1.0  13.0  13.0   1.0  0.0  0.0  0.0   2.0  ...  0.0  0.0   \n",
      "3  910241.0 -1.0  1.0  20.0  14.0   3.0  0.0  0.0  4.0   3.0  ...  0.0  0.0   \n",
      "4  910244.0  3.0  1.0  10.0  10.0   5.0  0.0  0.0  1.0   2.0  ...  1.0  0.0   \n",
      "\n",
      "   396  397  398  399  400  401  402  403  \n",
      "0  0.0  0.0  0.0  0.0  0.0  0.0  0.0  1.0  \n",
      "1  0.0  0.0  0.0  0.0  0.0  0.0  0.0  1.0  \n",
      "2  0.0  0.0  0.0  0.0  0.0  0.0  0.0  1.0  \n",
      "3  0.0  0.0  0.0  0.0  0.0  0.0  0.0  1.0  \n",
      "4  0.0  0.0  0.0  0.0  0.0  0.0  0.0  1.0  \n",
      "\n",
      "[5 rows x 404 columns]\n",
      "imputed customers_data:          0    1    2     3     4    5    6    7    8    9    ...  395  396  \\\n",
      "0    9626.0  2.0  1.0  10.0  10.0  1.0  0.0  0.0  2.0  1.0  ...  0.0  0.0   \n",
      "1    9628.0 -1.0  9.0  11.0   9.0  9.0  9.0  0.0  3.0  9.0  ...  0.0  0.0   \n",
      "2  143872.0 -1.0  1.0   6.0   0.0  1.0  0.0  0.0  1.0  1.0  ...  0.0  0.0   \n",
      "3  143873.0  1.0  1.0   8.0   8.0  0.0  9.0  0.0  0.0  1.0  ...  0.0  0.0   \n",
      "4  143874.0 -1.0  1.0  20.0  14.0  7.0  0.0  0.0  4.0  7.0  ...  0.0  0.0   \n",
      "\n",
      "   397  398  399  400  401  402  403  404  \n",
      "0  0.0  0.0  0.0  0.0  0.0  0.0  0.0  1.0  \n",
      "1  0.0  0.0  0.0  0.0  0.0  1.0  0.0  0.0  \n",
      "2  0.0  0.0  0.0  0.0  0.0  0.0  0.0  1.0  \n",
      "3  0.0  0.0  0.0  0.0  0.0  0.0  0.0  1.0  \n",
      "4  0.0  0.0  0.0  0.0  0.0  0.0  0.0  1.0  \n",
      "\n",
      "[5 rows x 405 columns]\n"
     ]
    }
   ],
   "source": [
    "# Handling NaNs, as the dataset is large and has many outliers, using Median to fill values\n",
    "\n",
    "imputer = Imputer(missing_values='NaN',strategy='most_frequent',axis=0)\n",
    "\n",
    "population_data = imputer.fit_transform(population_data)\n",
    "population_data = pd.DataFrame(population_data)\n",
    "print('imputed population_data: ', population_data.head(5))\n",
    "\n",
    "customers_data = imputer.fit_transform(customers_data)\n",
    "customers_data = pd.DataFrame(customers_data)\n",
    "print('imputed customers_data: ', customers_data.head(5))"
   ]
  },
  {
   "cell_type": "code",
   "execution_count": 41,
   "metadata": {},
   "outputs": [
    {
     "name": "stdout",
     "output_type": "stream",
     "text": [
      "Number of Rows in New Dataset, population_data:  (733227, 404)\n",
      "Number of Rows in New Dataset, customers_data:  (191652, 405)\n"
     ]
    }
   ],
   "source": [
    "print('Number of Rows in New Dataset, population_data: ',population_data.shape)\n",
    "print('Number of Rows in New Dataset, customers_data: ',customers_data.shape)"
   ]
  },
  {
   "cell_type": "markdown",
   "metadata": {},
   "source": [
    "##### Step 5: Handle outliers in the dataset"
   ]
  },
  {
   "cell_type": "code",
   "execution_count": 42,
   "metadata": {},
   "outputs": [
    {
     "name": "stdout",
     "output_type": "stream",
     "text": [
      "CPU times: user 13.9 s, sys: 26.2 s, total: 40 s\n",
      "Wall time: 22.9 s\n"
     ]
    }
   ],
   "source": [
    "%%time\n",
    "population_data = population_data[(np.abs(stats.zscore(population_data)) < 6).all(axis=1)]\n",
    "customers_data = customers_data[(np.abs(stats.zscore(customers_data)) < 6).all(axis=1)]"
   ]
  },
  {
   "cell_type": "code",
   "execution_count": 43,
   "metadata": {},
   "outputs": [
    {
     "name": "stdout",
     "output_type": "stream",
     "text": [
      "Number of Rows in New Dataset:  (413366, 404)\n",
      "number of rows in new dataset:  (99455, 405)\n"
     ]
    }
   ],
   "source": [
    "print('Number of Rows in New Dataset: ',population_data.shape)\n",
    "print('number of rows in new dataset: ',customers_data.shape)"
   ]
  },
  {
   "cell_type": "code",
   "execution_count": 44,
   "metadata": {},
   "outputs": [
    {
     "data": {
      "text/html": [
       "<div>\n",
       "<style scoped>\n",
       "    .dataframe tbody tr th:only-of-type {\n",
       "        vertical-align: middle;\n",
       "    }\n",
       "\n",
       "    .dataframe tbody tr th {\n",
       "        vertical-align: top;\n",
       "    }\n",
       "\n",
       "    .dataframe thead th {\n",
       "        text-align: right;\n",
       "    }\n",
       "</style>\n",
       "<table border=\"1\" class=\"dataframe\">\n",
       "  <thead>\n",
       "    <tr style=\"text-align: right;\">\n",
       "      <th></th>\n",
       "      <th>0</th>\n",
       "      <th>1</th>\n",
       "      <th>2</th>\n",
       "      <th>3</th>\n",
       "      <th>4</th>\n",
       "      <th>5</th>\n",
       "      <th>6</th>\n",
       "      <th>7</th>\n",
       "      <th>8</th>\n",
       "      <th>9</th>\n",
       "      <th>...</th>\n",
       "      <th>394</th>\n",
       "      <th>395</th>\n",
       "      <th>396</th>\n",
       "      <th>397</th>\n",
       "      <th>398</th>\n",
       "      <th>399</th>\n",
       "      <th>400</th>\n",
       "      <th>401</th>\n",
       "      <th>402</th>\n",
       "      <th>403</th>\n",
       "    </tr>\n",
       "  </thead>\n",
       "  <tbody>\n",
       "    <tr>\n",
       "      <td>1</td>\n",
       "      <td>910225.0</td>\n",
       "      <td>-1.0</td>\n",
       "      <td>9.0</td>\n",
       "      <td>17.0</td>\n",
       "      <td>17.0</td>\n",
       "      <td>10.0</td>\n",
       "      <td>0.0</td>\n",
       "      <td>0.0</td>\n",
       "      <td>1.0</td>\n",
       "      <td>7.0</td>\n",
       "      <td>...</td>\n",
       "      <td>0.0</td>\n",
       "      <td>0.0</td>\n",
       "      <td>0.0</td>\n",
       "      <td>0.0</td>\n",
       "      <td>0.0</td>\n",
       "      <td>0.0</td>\n",
       "      <td>0.0</td>\n",
       "      <td>0.0</td>\n",
       "      <td>0.0</td>\n",
       "      <td>1.0</td>\n",
       "    </tr>\n",
       "    <tr>\n",
       "      <td>4</td>\n",
       "      <td>910244.0</td>\n",
       "      <td>3.0</td>\n",
       "      <td>1.0</td>\n",
       "      <td>10.0</td>\n",
       "      <td>10.0</td>\n",
       "      <td>5.0</td>\n",
       "      <td>0.0</td>\n",
       "      <td>0.0</td>\n",
       "      <td>1.0</td>\n",
       "      <td>2.0</td>\n",
       "      <td>...</td>\n",
       "      <td>1.0</td>\n",
       "      <td>0.0</td>\n",
       "      <td>0.0</td>\n",
       "      <td>0.0</td>\n",
       "      <td>0.0</td>\n",
       "      <td>0.0</td>\n",
       "      <td>0.0</td>\n",
       "      <td>0.0</td>\n",
       "      <td>0.0</td>\n",
       "      <td>1.0</td>\n",
       "    </tr>\n",
       "    <tr>\n",
       "      <td>5</td>\n",
       "      <td>910248.0</td>\n",
       "      <td>-1.0</td>\n",
       "      <td>9.0</td>\n",
       "      <td>0.0</td>\n",
       "      <td>9.0</td>\n",
       "      <td>4.0</td>\n",
       "      <td>0.0</td>\n",
       "      <td>0.0</td>\n",
       "      <td>1.0</td>\n",
       "      <td>3.0</td>\n",
       "      <td>...</td>\n",
       "      <td>0.0</td>\n",
       "      <td>0.0</td>\n",
       "      <td>0.0</td>\n",
       "      <td>0.0</td>\n",
       "      <td>0.0</td>\n",
       "      <td>0.0</td>\n",
       "      <td>0.0</td>\n",
       "      <td>0.0</td>\n",
       "      <td>0.0</td>\n",
       "      <td>1.0</td>\n",
       "    </tr>\n",
       "    <tr>\n",
       "      <td>6</td>\n",
       "      <td>910261.0</td>\n",
       "      <td>-1.0</td>\n",
       "      <td>1.0</td>\n",
       "      <td>14.0</td>\n",
       "      <td>14.0</td>\n",
       "      <td>6.0</td>\n",
       "      <td>0.0</td>\n",
       "      <td>0.0</td>\n",
       "      <td>1.0</td>\n",
       "      <td>5.0</td>\n",
       "      <td>...</td>\n",
       "      <td>0.0</td>\n",
       "      <td>0.0</td>\n",
       "      <td>0.0</td>\n",
       "      <td>0.0</td>\n",
       "      <td>0.0</td>\n",
       "      <td>0.0</td>\n",
       "      <td>0.0</td>\n",
       "      <td>0.0</td>\n",
       "      <td>0.0</td>\n",
       "      <td>1.0</td>\n",
       "    </tr>\n",
       "    <tr>\n",
       "      <td>9</td>\n",
       "      <td>645165.0</td>\n",
       "      <td>0.0</td>\n",
       "      <td>1.0</td>\n",
       "      <td>10.0</td>\n",
       "      <td>10.0</td>\n",
       "      <td>6.0</td>\n",
       "      <td>0.0</td>\n",
       "      <td>0.0</td>\n",
       "      <td>1.0</td>\n",
       "      <td>6.0</td>\n",
       "      <td>...</td>\n",
       "      <td>0.0</td>\n",
       "      <td>0.0</td>\n",
       "      <td>0.0</td>\n",
       "      <td>0.0</td>\n",
       "      <td>0.0</td>\n",
       "      <td>1.0</td>\n",
       "      <td>0.0</td>\n",
       "      <td>0.0</td>\n",
       "      <td>0.0</td>\n",
       "      <td>1.0</td>\n",
       "    </tr>\n",
       "  </tbody>\n",
       "</table>\n",
       "<p>5 rows × 404 columns</p>\n",
       "</div>"
      ],
      "text/plain": [
       "        0    1    2     3     4     5    6    7    8    9    ...  394  395  \\\n",
       "1  910225.0 -1.0  9.0  17.0  17.0  10.0  0.0  0.0  1.0  7.0  ...  0.0  0.0   \n",
       "4  910244.0  3.0  1.0  10.0  10.0   5.0  0.0  0.0  1.0  2.0  ...  1.0  0.0   \n",
       "5  910248.0 -1.0  9.0   0.0   9.0   4.0  0.0  0.0  1.0  3.0  ...  0.0  0.0   \n",
       "6  910261.0 -1.0  1.0  14.0  14.0   6.0  0.0  0.0  1.0  5.0  ...  0.0  0.0   \n",
       "9  645165.0  0.0  1.0  10.0  10.0   6.0  0.0  0.0  1.0  6.0  ...  0.0  0.0   \n",
       "\n",
       "   396  397  398  399  400  401  402  403  \n",
       "1  0.0  0.0  0.0  0.0  0.0  0.0  0.0  1.0  \n",
       "4  0.0  0.0  0.0  0.0  0.0  0.0  0.0  1.0  \n",
       "5  0.0  0.0  0.0  0.0  0.0  0.0  0.0  1.0  \n",
       "6  0.0  0.0  0.0  0.0  0.0  0.0  0.0  1.0  \n",
       "9  0.0  0.0  0.0  1.0  0.0  0.0  0.0  1.0  \n",
       "\n",
       "[5 rows x 404 columns]"
      ]
     },
     "execution_count": 44,
     "metadata": {},
     "output_type": "execute_result"
    }
   ],
   "source": [
    "#do a check of missing values\n",
    "population_data.head()"
   ]
  },
  {
   "cell_type": "markdown",
   "metadata": {},
   "source": [
    "##### Step 6: Scale the dataset "
   ]
  },
  {
   "cell_type": "code",
   "execution_count": 45,
   "metadata": {},
   "outputs": [
    {
     "name": "stdout",
     "output_type": "stream",
     "text": [
      "CPU times: user 11.1 s, sys: 3.19 s, total: 14.3 s\n",
      "Wall time: 5.35 s\n"
     ]
    }
   ],
   "source": [
    "%%time\n",
    "# scale the data\n",
    "scale = StandardScaler(copy=False)\n",
    "population_data[population_data.columns] = scale.fit_transform(population_data)\n",
    "customers_data[customers_data.columns] = scale.fit_transform(customers_data)"
   ]
  },
  {
   "cell_type": "markdown",
   "metadata": {},
   "source": [
    "##### Step 7: Summarize and combine all the steps as dataCleanup() function"
   ]
  },
  {
   "cell_type": "code",
   "execution_count": 48,
   "metadata": {},
   "outputs": [],
   "source": [
    "def dataCleanUp(df, for_clustering, df_name=None):\n",
    "    \n",
    "    if for_clustering:\n",
    "        if df_name == 'azdias':\n",
    "            df = df[df.isnull().sum(axis=1) <= 16].reset_index(drop=True)\n",
    "        elif df_name == 'customers':            \n",
    "            df.drop(columns=['CUSTOMER_GROUP', 'ONLINE_PURCHASE', 'PRODUCT_GROUP'], inplace=True)\n",
    "        \n",
    "    #column_nans = df.isnull().mean()\n",
    "    drop_cols = ['ALTER_KIND1', 'ALTER_KIND2', 'ALTER_KIND3', 'ALTER_KIND4', 'EXTSEL992','KK_KUNDENTYP']\n",
    "    \n",
    "    df = df.drop(drop_cols,axis=1)\n",
    "    df = df.drop(['EINGEFUEGT_AM'],axis=1)\n",
    "    df = df.drop(['D19_LETZTER_KAUF_BRANCHE'],axis=1)\n",
    "\n",
    "    # find correlation matrix    \n",
    "    corr_matrix = df.corr().abs()\n",
    "    upper_limit = corr_matrix.where(np.triu(np.ones(corr_matrix.shape), k=1).astype(np.bool))\n",
    "    drop_columns = [column for column in upper_limit.columns if any(upper_limit[column] > .7)]\n",
    "    df = df.drop(drop_columns, axis=1)\n",
    "\n",
    "    # we need to fill missing values here. We will fill missing values with -1 indicating unknown as in the description.\n",
    "    df[['CAMEO_DEUG_2015','CAMEO_INTL_2015']] = df[['CAMEO_DEUG_2015','CAMEO_INTL_2015']].replace(['X','XX'],-1)\n",
    "    df[['CAMEO_DEUG_2015','CAMEO_INTL_2015']] = df[['CAMEO_DEUG_2015','CAMEO_INTL_2015']].fillna(-1)\n",
    "    df[['CAMEO_DEUG_2015','CAMEO_INTL_2015']] = df[['CAMEO_DEUG_2015','CAMEO_INTL_2015']].astype(int)\n",
    "    df[['CAMEO_DEU_2015','OST_WEST_KZ']]=df[['CAMEO_DEU_2015','OST_WEST_KZ']].fillna(-1)\n",
    "\n",
    "    # fillna the fields\n",
    "    df[df.columns[(df==9).any()]] = df[df.columns[(df==9).any()]].fillna(9)\n",
    "    df[df.columns[(df==0).any()]] = df[df.columns[(df==0).any()]].fillna(0)\n",
    "    df[df.columns[(df==-1).any()]] = df[df.columns[(df==-1).any()]].fillna(-1)\n",
    "    df = pd.get_dummies(df)\n",
    "    \n",
    "    df_columns = list(df.columns.values)\n",
    "\n",
    "    # impute nans using mode value\n",
    "    imputer = Imputer(missing_values='NaN',strategy='most_frequent',axis=0)\n",
    "    df = imputer.fit_transform(df)\n",
    "    df = pd.DataFrame(df)\n",
    "\n",
    "    # convert to int\n",
    "    df = df.astype(int)\n",
    "\n",
    "    # detect and exclude outliers in dataframe  \n",
    "    if for_clustering:\n",
    "        df = df[(np.abs(stats.zscore(df)) < 6).all(axis=1)] \n",
    "\n",
    "    # scale the data\n",
    "    scale = StandardScaler(copy=False)\n",
    "    scaled = scale.fit_transform(df)\n",
    "    df = pd.DataFrame(scaled,columns= df_columns)\n",
    "    \n",
    "    df = df.set_index('LNR')\n",
    "    return df"
   ]
  },
  {
   "cell_type": "markdown",
   "metadata": {},
   "source": [
    "## Part 1: Customer Segmentation Report\n",
    "\n",
    "The main bulk of your analysis will come in this part of the project. Here, you should use unsupervised learning techniques to describe the relationship between the demographics of the company's existing customers and the general population of Germany. By the end of this part, you should be able to describe parts of the general population that are more likely to be part of the mail-order company's main customer base, and which parts of the general population are less so."
   ]
  },
  {
   "cell_type": "markdown",
   "metadata": {},
   "source": [
    "##### Step 1: Reduce the no. of features in the dataset further using PCA technique"
   ]
  },
  {
   "cell_type": "code",
   "execution_count": 49,
   "metadata": {},
   "outputs": [
    {
     "data": {
      "image/png": "[encoded data removed]",
      "text/plain": [
       "<Figure size 1440x720 with 1 Axes>"
      ]
     },
     "metadata": {
      "needs_background": "light"
     },
     "output_type": "display_data"
    },
    {
     "name": "stdout",
     "output_type": "stream",
     "text": [
      "CPU times: user 55.2 s, sys: 7.58 s, total: 1min 2s\n",
      "Wall time: 18.2 s\n"
     ]
    }
   ],
   "source": [
    "%%time\n",
    "pca = PCA().fit(population_data)\n",
    "plt.figure(figsize=(20,10))\n",
    "plt.plot(np.cumsum(pca.explained_variance_ratio_))\n",
    "plt.xlabel('Number of Components')\n",
    "plt.ylabel('Explained Variance/Component')\n",
    "plt.show()"
   ]
  },
  {
   "cell_type": "code",
   "execution_count": 50,
   "metadata": {},
   "outputs": [],
   "source": [
    "def getWeights(n):\n",
    "    components = pd.DataFrame(np.round(pca.components_[n - 1: n], 4), columns = population_data.keys())\n",
    "    components.index = ['Weights']\n",
    "    components = components.sort_values(by = 'Weights', axis = 1, ascending=False)\n",
    "    components = components.T\n",
    "    return components"
   ]
  },
  {
   "cell_type": "code",
   "execution_count": 52,
   "metadata": {},
   "outputs": [
    {
     "name": "stdout",
     "output_type": "stream",
     "text": [
      "     Weights\n",
      "304   0.1369\n",
      "180   0.1320\n",
      "308   0.1311\n",
      "116   0.1268\n",
      "300   0.1267\n",
      "..       ...\n",
      "183  -0.1282\n",
      "187  -0.1287\n",
      "13   -0.1296\n",
      "182  -0.1311\n",
      "310  -0.1320\n",
      "\n",
      "[404 rows x 1 columns]\n"
     ]
    }
   ],
   "source": [
    "#List the wieghts\n",
    "components = getWeights(1)\n",
    "print(components)"
   ]
  },
  {
   "cell_type": "markdown",
   "metadata": {},
   "source": [
    " ##### PCA is a technique to reduce dimensions while maintaining as much as imformation as possible. This technique will have a slight tradeoff in accuracy but will help reduce the numebr of features. From the plot above we can see the plot starts to flatten around 260. We will reduce the data to 260 components."
   ]
  },
  {
   "cell_type": "code",
   "execution_count": 53,
   "metadata": {},
   "outputs": [],
   "source": [
    "def reduce_dimensions(df,n=260):\n",
    "    pca = PCA(n_components=n).fit(df)\n",
    "    reduced_data = pca.transform(df)\n",
    "    reduced_data = pd.DataFrame(reduced_data)\n",
    "    print(pca.explained_variance_ratio_.sum())\n",
    "    return reduced_data"
   ]
  },
  {
   "cell_type": "code",
   "execution_count": 54,
   "metadata": {},
   "outputs": [
    {
     "name": "stdout",
     "output_type": "stream",
     "text": [
      "Variance Ratio for Population and Customer Data:\n",
      "0.970097986248935\n",
      "0.9917720303882137\n"
     ]
    }
   ],
   "source": [
    "print('Variance Ratio for Population and Customer Data:')\n",
    "reduced_population_data = reduce_dimensions(population_data)\n",
    "reduced_customers_data = reduce_dimensions(customers_data)"
   ]
  },
  {
   "cell_type": "code",
   "execution_count": 55,
   "metadata": {},
   "outputs": [
    {
     "name": "stdout",
     "output_type": "stream",
     "text": [
      "Number of rows in new dataset:  (413366, 260)\n",
      "Number of rows in new dataset:  (99455, 260)\n"
     ]
    }
   ],
   "source": [
    "print('Number of rows in new dataset: ',reduced_population_data.shape)\n",
    "print('Number of rows in new dataset: ',reduced_customers_data.shape)"
   ]
  },
  {
   "cell_type": "markdown",
   "metadata": {},
   "source": [
    "##### Step 2: Identify ideal number of clusters by using elbow method"
   ]
  },
  {
   "cell_type": "code",
   "execution_count": 57,
   "metadata": {},
   "outputs": [],
   "source": [
    "#Get K-Means scores by passing data and the no. of clusters\n",
    "def getScore(data, k):\n",
    "    kmeans_k = KMeans(k)\n",
    "    model_k = kmeans_k.fit(data)\n",
    "    return abs(model_k.score(data))"
   ]
  },
  {
   "cell_type": "code",
   "execution_count": 60,
   "metadata": {},
   "outputs": [
    {
     "data": {
      "text/plain": [
       "array([ 1.,  2.,  3.,  4.,  5.,  6.,  7.,  8.,  9., 10., 11., 12., 13.,\n",
       "       14., 15., 16., 17., 18., 19., 20.])"
      ]
     },
     "execution_count": 60,
     "metadata": {},
     "output_type": "execute_result"
    }
   ],
   "source": [
    "#Initialize Clusters Numbers\n",
    "centers = np.linspace(1,20,20)\n",
    "centers"
   ]
  },
  {
   "cell_type": "code",
   "execution_count": 94,
   "metadata": {},
   "outputs": [
    {
     "name": "stdout",
     "output_type": "stream",
     "text": [
      "CPU times: user 6min 4s, sys: 4.49 s, total: 6min 9s\n",
      "Wall time: 3min 16s\n"
     ]
    },
    {
     "data": {
      "text/plain": [
       "[<matplotlib.lines.Line2D at 0x1a32566b38>]"
      ]
     },
     "execution_count": 94,
     "metadata": {},
     "output_type": "execute_result"
    },
    {
     "data": {
      "image/png": "[encoded data removed]",
      "text/plain": [
       "<Figure size 432x288 with 1 Axes>"
      ]
     },
     "metadata": {},
     "output_type": "display_data"
    }
   ],
   "source": [
    "%%time\n",
    "scores = []\n",
    "for i in range(1, 21):\n",
    "    scores.append(getScore(reduced_population_data.sample(20000), i))\n",
    "centers = np.linspace(1,20,20)\n",
    "plt.plot(centers, scores, linestyle='-', marker='o', color='green')"
   ]
  },
  {
   "cell_type": "code",
   "execution_count": 62,
   "metadata": {},
   "outputs": [
    {
     "data": {
      "text/plain": [
       "Text(0.5, 0, 'Number of Clusters')"
      ]
     },
     "execution_count": 62,
     "metadata": {},
     "output_type": "execute_result"
    },
    {
     "data": {
      "image/png": "[encoded data removed]",
      "text/plain": [
       "<Figure size 1008x432 with 1 Axes>"
      ]
     },
     "metadata": {
      "needs_background": "light"
     },
     "output_type": "display_data"
    }
   ],
   "source": [
    "centers = np.linspace(1,20,20)\n",
    "plt.figure(figsize=(14,6))\n",
    "plt.plot(centers, scores, linestyle='-', marker='o', color='red')\n",
    "plt.xticks(list(range(1,22,2)))\n",
    "plt.ylabel('Average Within-Cluster Distances')\n",
    "plt.xlabel('Number of Clusters')"
   ]
  },
  {
   "cell_type": "markdown",
   "metadata": {},
   "source": [
    "##### From the chart we can get the ideal number of clusters as 12"
   ]
  },
  {
   "cell_type": "code",
   "execution_count": 63,
   "metadata": {},
   "outputs": [
    {
     "name": "stdout",
     "output_type": "stream",
     "text": [
      "CPU times: user 20min 15s, sys: 29.6 s, total: 20min 45s\n",
      "Wall time: 6min 14s\n"
     ]
    }
   ],
   "source": [
    "%%time\n",
    "kmeans_k = KMeans(12)\n",
    "model_k = kmeans_k.fit(reduced_population_data)\n",
    "prediction_population_data = model_k.predict(reduced_population_data)"
   ]
  },
  {
   "cell_type": "code",
   "execution_count": 65,
   "metadata": {},
   "outputs": [],
   "source": [
    "population_clustered = pd.DataFrame(prediction_population_data, columns = ['Cluster'])"
   ]
  },
  {
   "cell_type": "code",
   "execution_count": 71,
   "metadata": {},
   "outputs": [],
   "source": [
    "prediction_customer_data = model_k.predict(reduced_customers_data)\n",
    "customers_clustered = pd.DataFrame(prediction_customers, columns = ['Cluster'])"
   ]
  },
  {
   "cell_type": "code",
   "execution_count": 72,
   "metadata": {},
   "outputs": [],
   "source": [
    "def getDistribution(df, column, height):\n",
    "    ncount = len(df)\n",
    "    plt.figure(figsize=(14,6))\n",
    "    sns.set(style=\"darkgrid\")\n",
    "    ax = sns.countplot(x = column, data = df)\n",
    "    plt.title('Distribution of each Cluster')\n",
    "    plt.xlabel('Cluster Tag')\n",
    "\n",
    "    # Make twin axis\n",
    "    ax2=ax.twinx()\n",
    "\n",
    "    # Switch so count axis is on right, frequency on left\n",
    "    ax2.yaxis.tick_left()\n",
    "    ax.yaxis.tick_right()\n",
    "\n",
    "    # Also switch the labels over\n",
    "    ax.yaxis.set_label_position('right')\n",
    "    ax2.yaxis.set_label_position('left')\n",
    "\n",
    "    ax2.set_ylabel('Frequency [%]')\n",
    "\n",
    "    for p in ax.patches:\n",
    "        x=p.get_bbox().get_points()[:,0]\n",
    "        y=p.get_bbox().get_points()[1,1]\n",
    "        ax.annotate('{:.1f}%'.format(100.*y/ncount), (x.mean(), y), \n",
    "                ha='center', va='bottom') # set the alignment of the text\n",
    "\n",
    "    # Fix the frequency range to 0-100\n",
    "    ratio = 100 / height\n",
    "    ax2.set_ylim(0,100 / ratio)\n",
    "    ax.set_ylim(0,ncount / ratio)\n",
    "\n",
    "    # Need to turn the grid on ax2 off, otherwise the gridlines end up on top of the bars\n",
    "    ax2.grid(None)"
   ]
  },
  {
   "cell_type": "code",
   "execution_count": 73,
   "metadata": {
    "scrolled": true
   },
   "outputs": [
    {
     "data": {
      "image/png": "[encoded data removed]",
      "text/plain": [
       "<Figure size 1008x432 with 2 Axes>"
      ]
     },
     "metadata": {},
     "output_type": "display_data"
    }
   ],
   "source": [
    "df_prediction_population = pd.DataFrame(prediction_population_data, columns = ['Cluster'])\n",
    "getDistribution(df_prediction_population, 'Cluster', height = 30)"
   ]
  },
  {
   "cell_type": "code",
   "execution_count": 74,
   "metadata": {
    "scrolled": true
   },
   "outputs": [
    {
     "data": {
      "image/png": "[encoded data removed]",
      "text/plain": [
       "<Figure size 1008x432 with 2 Axes>"
      ]
     },
     "metadata": {},
     "output_type": "display_data"
    }
   ],
   "source": [
    "df_prediction_customers = pd.DataFrame(prediction_customer_data, columns = ['Cluster'])\n",
    "getDistribution(df_prediction_customers, 'Cluster', height = 30)"
   ]
  },
  {
   "cell_type": "markdown",
   "metadata": {},
   "source": [
    "#### Step 3: Getting data from population and customer dataset for comparision"
   ]
  },
  {
   "cell_type": "code",
   "execution_count": 164,
   "metadata": {},
   "outputs": [],
   "source": [
    "# Count number of predictions for each customer segment\n",
    "customer_clusters = pd.Series(prediction_customer_data)\n",
    "cc_counts = customer_clusters.value_counts().sort_index()\n",
    "# Count number in each population segment\n",
    "population_clusters = pd.Series(prediction_population_data)\n",
    "pc_counts = population_clusters.value_counts().sort_index()"
   ]
  },
  {
   "cell_type": "code",
   "execution_count": 165,
   "metadata": {},
   "outputs": [
    {
     "data": {
      "text/html": [
       "<div>\n",
       "<style scoped>\n",
       "    .dataframe tbody tr th:only-of-type {\n",
       "        vertical-align: middle;\n",
       "    }\n",
       "\n",
       "    .dataframe tbody tr th {\n",
       "        vertical-align: top;\n",
       "    }\n",
       "\n",
       "    .dataframe thead th {\n",
       "        text-align: right;\n",
       "    }\n",
       "</style>\n",
       "<table border=\"1\" class=\"dataframe\">\n",
       "  <thead>\n",
       "    <tr style=\"text-align: right;\">\n",
       "      <th></th>\n",
       "      <th>cluster</th>\n",
       "      <th>population</th>\n",
       "      <th>customer</th>\n",
       "      <th>difference</th>\n",
       "    </tr>\n",
       "  </thead>\n",
       "  <tbody>\n",
       "    <tr>\n",
       "      <td>0</td>\n",
       "      <td>0</td>\n",
       "      <td>30807</td>\n",
       "      <td>10</td>\n",
       "      <td>-7.442663</td>\n",
       "    </tr>\n",
       "    <tr>\n",
       "      <td>1</td>\n",
       "      <td>1</td>\n",
       "      <td>10629</td>\n",
       "      <td>31</td>\n",
       "      <td>-2.540159</td>\n",
       "    </tr>\n",
       "    <tr>\n",
       "      <td>2</td>\n",
       "      <td>2</td>\n",
       "      <td>35484</td>\n",
       "      <td>14132</td>\n",
       "      <td>5.625281</td>\n",
       "    </tr>\n",
       "    <tr>\n",
       "      <td>3</td>\n",
       "      <td>3</td>\n",
       "      <td>45506</td>\n",
       "      <td>11370</td>\n",
       "      <td>0.423660</td>\n",
       "    </tr>\n",
       "    <tr>\n",
       "      <td>4</td>\n",
       "      <td>4</td>\n",
       "      <td>31032</td>\n",
       "      <td>451</td>\n",
       "      <td>-7.053677</td>\n",
       "    </tr>\n",
       "    <tr>\n",
       "      <td>5</td>\n",
       "      <td>5</td>\n",
       "      <td>47329</td>\n",
       "      <td>43</td>\n",
       "      <td>-11.406424</td>\n",
       "    </tr>\n",
       "    <tr>\n",
       "      <td>6</td>\n",
       "      <td>6</td>\n",
       "      <td>35598</td>\n",
       "      <td>36481</td>\n",
       "      <td>28.069172</td>\n",
       "    </tr>\n",
       "    <tr>\n",
       "      <td>7</td>\n",
       "      <td>7</td>\n",
       "      <td>24780</td>\n",
       "      <td>3498</td>\n",
       "      <td>-2.477519</td>\n",
       "    </tr>\n",
       "    <tr>\n",
       "      <td>8</td>\n",
       "      <td>8</td>\n",
       "      <td>38218</td>\n",
       "      <td>19624</td>\n",
       "      <td>10.485977</td>\n",
       "    </tr>\n",
       "    <tr>\n",
       "      <td>9</td>\n",
       "      <td>9</td>\n",
       "      <td>31237</td>\n",
       "      <td>1523</td>\n",
       "      <td>-6.025396</td>\n",
       "    </tr>\n",
       "    <tr>\n",
       "      <td>10</td>\n",
       "      <td>10</td>\n",
       "      <td>46656</td>\n",
       "      <td>216</td>\n",
       "      <td>-11.069666</td>\n",
       "    </tr>\n",
       "    <tr>\n",
       "      <td>11</td>\n",
       "      <td>11</td>\n",
       "      <td>36090</td>\n",
       "      <td>12076</td>\n",
       "      <td>3.411413</td>\n",
       "    </tr>\n",
       "  </tbody>\n",
       "</table>\n",
       "</div>"
      ],
      "text/plain": [
       "    cluster  population  customer  difference\n",
       "0         0       30807        10   -7.442663\n",
       "1         1       10629        31   -2.540159\n",
       "2         2       35484     14132    5.625281\n",
       "3         3       45506     11370    0.423660\n",
       "4         4       31032       451   -7.053677\n",
       "5         5       47329        43  -11.406424\n",
       "6         6       35598     36481   28.069172\n",
       "7         7       24780      3498   -2.477519\n",
       "8         8       38218     19624   10.485977\n",
       "9         9       31237      1523   -6.025396\n",
       "10       10       46656       216  -11.069666\n",
       "11       11       36090     12076    3.411413"
      ]
     },
     "execution_count": 165,
     "metadata": {},
     "output_type": "execute_result"
    }
   ],
   "source": [
    "# Create a dataframe from population and customer segments\n",
    "df_stat = pd.concat([pc, cc_counts], axis=1).reset_index()\n",
    "df_stat.columns = ['cluster','population','customer']\n",
    "\n",
    "df_stat['difference'] = (df_stat['customer']/df_stat['customer'].sum()*100) - (df_stat['population']/df_stat['population'].sum()*100)\n",
    "df_stat"
   ]
  },
  {
   "cell_type": "code",
   "execution_count": 169,
   "metadata": {},
   "outputs": [
    {
     "data": {
      "image/png": "[encoded data removed]",
      "text/plain": [
       "<Figure size 864x360 with 1 Axes>"
      ]
     },
     "metadata": {},
     "output_type": "display_data"
    }
   ],
   "source": [
    "# Compare the proportion of data in each cluster for the customer data to the\n",
    "df_stat['pop_percent'] = (df_stat['population']/df_stat['population'].sum()*100).round(2)\n",
    "df_stat['cust_percent'] = (df_stat['customer']/df_stat['customer'].sum()*100).round(2)\n",
    "fig = plt.figure(figsize=(12,5))\n",
    "\n",
    "ax = fig.add_subplot(111)\n",
    "ax = df_stat['pop_percent'].plot(x=df_stat['cluster'],width=-0.3,align='edge',color='green',kind='bar',position=0)\n",
    "ax = df_stat['cust_percent'].plot(kind='bar',color='red',width = 0.3, align='edge',position=1)\n",
    "ax.set_xlabel('Clusters', fontsize=15) \n",
    "ax.set_ylabel('Ratio %', fontsize=15)\n",
    "ax.xaxis.set(ticklabels=range(20))\n",
    "ax.tick_params(axis = 'x', which = 'major', labelsize = 13)\n",
    "ax.margins(x=0.5,y=0.1)\n",
    "\n",
    "plt.legend(('Population', 'Customer'),fontsize=15)\n",
    "plt.title(('Ratio of Gen Population Vs Customer segments as % of total per cluster'))\n",
    "plt.show()"
   ]
  },
  {
   "cell_type": "markdown",
   "metadata": {},
   "source": [
    "## Part 2: Supervised Learning Model\n",
    "\n",
    "Now that you've found which parts of the population are more likely to be customers of the mail-order company, it's time to build a prediction model. Each of the rows in the \"MAILOUT\" data files represents an individual that was targeted for a mailout campaign. Ideally, we should be able to use the demographic information from each individual to decide whether or not it will be worth it to include that person in the campaign.\n",
    "\n",
    "The \"MAILOUT\" data has been split into two approximately equal parts, each with almost 43 000 data rows. In this part, you can verify your model with the \"TRAIN\" partition, which includes a column, \"RESPONSE\", that states whether or not a person became a customer of the company following the campaign. In the next part, you'll need to create predictions on the \"TEST\" partition, where the \"RESPONSE\" column has been withheld."
   ]
  },
  {
   "cell_type": "markdown",
   "metadata": {},
   "source": [
    "##### Step 1: Get the data and split it as train and test"
   ]
  },
  {
   "cell_type": "code",
   "execution_count": 81,
   "metadata": {},
   "outputs": [
    {
     "name": "stderr",
     "output_type": "stream",
     "text": [
      "/Users/dinesh/opt/anaconda3/envs/ML_Environment/lib/python3.6/site-packages/IPython/core/interactiveshell.py:3058: DtypeWarning: Columns (18,19) have mixed types. Specify dtype option on import or set low_memory=False.\n",
      "  interactivity=interactivity, compiler=compiler, result=result)\n"
     ]
    }
   ],
   "source": [
    "#reading the dataset\n",
    "mailout_train = pd.read_csv('arvato_data/Udacity_MAILOUT_052018_TRAIN.csv', sep=';')"
   ]
  },
  {
   "cell_type": "code",
   "execution_count": 82,
   "metadata": {},
   "outputs": [],
   "source": [
    "#getting features and label\n",
    "X = mailout_train.drop('RESPONSE',axis=1)\n",
    "y = mailout_train['RESPONSE']"
   ]
  },
  {
   "cell_type": "markdown",
   "metadata": {},
   "source": [
    "##### Step 2: Process data and cleanup"
   ]
  },
  {
   "cell_type": "code",
   "execution_count": 83,
   "metadata": {},
   "outputs": [
    {
     "name": "stderr",
     "output_type": "stream",
     "text": [
      "/Users/dinesh/opt/anaconda3/envs/ML_Environment/lib/python3.6/site-packages/sklearn/utils/deprecation.py:66: DeprecationWarning: Class Imputer is deprecated; Imputer was deprecated in version 0.20 and will be removed in 0.22. Import impute.SimpleImputer from sklearn instead.\n",
      "  warnings.warn(msg, category=DeprecationWarning)\n"
     ]
    }
   ],
   "source": [
    "# preprocess data using the cleanup function\n",
    "df_mailout_train  = dataCleanUp(X, False)"
   ]
  },
  {
   "cell_type": "code",
   "execution_count": 84,
   "metadata": {},
   "outputs": [
    {
     "data": {
      "text/plain": [
       "(42962, 299)"
      ]
     },
     "execution_count": 84,
     "metadata": {},
     "output_type": "execute_result"
    }
   ],
   "source": [
    "df_mailout_train.shape"
   ]
  },
  {
   "cell_type": "code",
   "execution_count": 85,
   "metadata": {},
   "outputs": [
    {
     "data": {
      "text/plain": [
       "(42962,)"
      ]
     },
     "execution_count": 85,
     "metadata": {},
     "output_type": "execute_result"
    }
   ],
   "source": [
    "y.shape"
   ]
  },
  {
   "cell_type": "code",
   "execution_count": 86,
   "metadata": {},
   "outputs": [
    {
     "data": {
      "text/html": [
       "<div>\n",
       "<style scoped>\n",
       "    .dataframe tbody tr th:only-of-type {\n",
       "        vertical-align: middle;\n",
       "    }\n",
       "\n",
       "    .dataframe tbody tr th {\n",
       "        vertical-align: top;\n",
       "    }\n",
       "\n",
       "    .dataframe thead th {\n",
       "        text-align: right;\n",
       "    }\n",
       "</style>\n",
       "<table border=\"1\" class=\"dataframe\">\n",
       "  <thead>\n",
       "    <tr style=\"text-align: right;\">\n",
       "      <th></th>\n",
       "      <th>AGER_TYP</th>\n",
       "      <th>AKT_DAT_KL</th>\n",
       "      <th>ALTER_HH</th>\n",
       "      <th>ALTERSKATEGORIE_FEIN</th>\n",
       "      <th>ANZ_HAUSHALTE_AKTIV</th>\n",
       "      <th>ANZ_HH_TITEL</th>\n",
       "      <th>ANZ_KINDER</th>\n",
       "      <th>ANZ_PERSONEN</th>\n",
       "      <th>ANZ_TITEL</th>\n",
       "      <th>ARBEIT</th>\n",
       "      <th>...</th>\n",
       "      <th>CAMEO_DEU_2015_8D</th>\n",
       "      <th>CAMEO_DEU_2015_9A</th>\n",
       "      <th>CAMEO_DEU_2015_9B</th>\n",
       "      <th>CAMEO_DEU_2015_9C</th>\n",
       "      <th>CAMEO_DEU_2015_9D</th>\n",
       "      <th>CAMEO_DEU_2015_9E</th>\n",
       "      <th>CAMEO_DEU_2015_XX</th>\n",
       "      <th>OST_WEST_KZ_-1</th>\n",
       "      <th>OST_WEST_KZ_O</th>\n",
       "      <th>OST_WEST_KZ_W</th>\n",
       "    </tr>\n",
       "    <tr>\n",
       "      <th>LNR</th>\n",
       "      <th></th>\n",
       "      <th></th>\n",
       "      <th></th>\n",
       "      <th></th>\n",
       "      <th></th>\n",
       "      <th></th>\n",
       "      <th></th>\n",
       "      <th></th>\n",
       "      <th></th>\n",
       "      <th></th>\n",
       "      <th></th>\n",
       "      <th></th>\n",
       "      <th></th>\n",
       "      <th></th>\n",
       "      <th></th>\n",
       "      <th></th>\n",
       "      <th></th>\n",
       "      <th></th>\n",
       "      <th></th>\n",
       "      <th></th>\n",
       "      <th></th>\n",
       "    </tr>\n",
       "  </thead>\n",
       "  <tbody>\n",
       "    <tr>\n",
       "      <td>-1.656309</td>\n",
       "      <td>1.031262</td>\n",
       "      <td>-0.545883</td>\n",
       "      <td>-0.371726</td>\n",
       "      <td>-0.428455</td>\n",
       "      <td>0.573402</td>\n",
       "      <td>-0.499090</td>\n",
       "      <td>-0.204857</td>\n",
       "      <td>-0.752038</td>\n",
       "      <td>-0.083831</td>\n",
       "      <td>-0.459891</td>\n",
       "      <td>...</td>\n",
       "      <td>-0.167172</td>\n",
       "      <td>-0.104604</td>\n",
       "      <td>-0.110149</td>\n",
       "      <td>-0.100902</td>\n",
       "      <td>-0.125771</td>\n",
       "      <td>-0.094216</td>\n",
       "      <td>-0.016003</td>\n",
       "      <td>-0.47014</td>\n",
       "      <td>-0.494196</td>\n",
       "      <td>0.778419</td>\n",
       "    </tr>\n",
       "    <tr>\n",
       "      <td>-1.655987</td>\n",
       "      <td>0.323502</td>\n",
       "      <td>0.396516</td>\n",
       "      <td>0.523127</td>\n",
       "      <td>0.837103</td>\n",
       "      <td>-0.445506</td>\n",
       "      <td>-0.499090</td>\n",
       "      <td>-0.204857</td>\n",
       "      <td>-0.402222</td>\n",
       "      <td>-0.083831</td>\n",
       "      <td>-0.860749</td>\n",
       "      <td>...</td>\n",
       "      <td>-0.167172</td>\n",
       "      <td>-0.104604</td>\n",
       "      <td>-0.110149</td>\n",
       "      <td>-0.100902</td>\n",
       "      <td>-0.125771</td>\n",
       "      <td>-0.094216</td>\n",
       "      <td>-0.016003</td>\n",
       "      <td>-0.47014</td>\n",
       "      <td>-0.494196</td>\n",
       "      <td>0.778419</td>\n",
       "    </tr>\n",
       "    <tr>\n",
       "      <td>-1.655785</td>\n",
       "      <td>0.323502</td>\n",
       "      <td>-0.545883</td>\n",
       "      <td>-0.192755</td>\n",
       "      <td>-0.681567</td>\n",
       "      <td>-0.518285</td>\n",
       "      <td>2.042255</td>\n",
       "      <td>-0.204857</td>\n",
       "      <td>-1.101855</td>\n",
       "      <td>-0.083831</td>\n",
       "      <td>-0.059034</td>\n",
       "      <td>...</td>\n",
       "      <td>-0.167172</td>\n",
       "      <td>-0.104604</td>\n",
       "      <td>-0.110149</td>\n",
       "      <td>-0.100902</td>\n",
       "      <td>-0.125771</td>\n",
       "      <td>-0.094216</td>\n",
       "      <td>-0.016003</td>\n",
       "      <td>-0.47014</td>\n",
       "      <td>2.023489</td>\n",
       "      <td>-1.284655</td>\n",
       "    </tr>\n",
       "    <tr>\n",
       "      <td>-1.668538</td>\n",
       "      <td>1.031262</td>\n",
       "      <td>-0.545883</td>\n",
       "      <td>-0.729667</td>\n",
       "      <td>-0.934679</td>\n",
       "      <td>-0.227168</td>\n",
       "      <td>-0.499090</td>\n",
       "      <td>-0.204857</td>\n",
       "      <td>-0.402222</td>\n",
       "      <td>-0.083831</td>\n",
       "      <td>-0.059034</td>\n",
       "      <td>...</td>\n",
       "      <td>-0.167172</td>\n",
       "      <td>-0.104604</td>\n",
       "      <td>-0.110149</td>\n",
       "      <td>-0.100902</td>\n",
       "      <td>-0.125771</td>\n",
       "      <td>-0.094216</td>\n",
       "      <td>-0.016003</td>\n",
       "      <td>-0.47014</td>\n",
       "      <td>-0.494196</td>\n",
       "      <td>0.778419</td>\n",
       "    </tr>\n",
       "    <tr>\n",
       "      <td>-1.655502</td>\n",
       "      <td>1.031262</td>\n",
       "      <td>-0.545883</td>\n",
       "      <td>-0.192755</td>\n",
       "      <td>-0.175344</td>\n",
       "      <td>3.339007</td>\n",
       "      <td>-0.499090</td>\n",
       "      <td>-0.204857</td>\n",
       "      <td>-0.752038</td>\n",
       "      <td>-0.083831</td>\n",
       "      <td>-0.459891</td>\n",
       "      <td>...</td>\n",
       "      <td>-0.167172</td>\n",
       "      <td>-0.104604</td>\n",
       "      <td>-0.110149</td>\n",
       "      <td>-0.100902</td>\n",
       "      <td>-0.125771</td>\n",
       "      <td>-0.094216</td>\n",
       "      <td>-0.016003</td>\n",
       "      <td>-0.47014</td>\n",
       "      <td>-0.494196</td>\n",
       "      <td>0.778419</td>\n",
       "    </tr>\n",
       "  </tbody>\n",
       "</table>\n",
       "<p>5 rows × 299 columns</p>\n",
       "</div>"
      ],
      "text/plain": [
       "           AGER_TYP  AKT_DAT_KL  ALTER_HH  ALTERSKATEGORIE_FEIN  \\\n",
       "LNR                                                               \n",
       "-1.656309  1.031262   -0.545883 -0.371726             -0.428455   \n",
       "-1.655987  0.323502    0.396516  0.523127              0.837103   \n",
       "-1.655785  0.323502   -0.545883 -0.192755             -0.681567   \n",
       "-1.668538  1.031262   -0.545883 -0.729667             -0.934679   \n",
       "-1.655502  1.031262   -0.545883 -0.192755             -0.175344   \n",
       "\n",
       "           ANZ_HAUSHALTE_AKTIV  ANZ_HH_TITEL  ANZ_KINDER  ANZ_PERSONEN  \\\n",
       "LNR                                                                      \n",
       "-1.656309             0.573402     -0.499090   -0.204857     -0.752038   \n",
       "-1.655987            -0.445506     -0.499090   -0.204857     -0.402222   \n",
       "-1.655785            -0.518285      2.042255   -0.204857     -1.101855   \n",
       "-1.668538            -0.227168     -0.499090   -0.204857     -0.402222   \n",
       "-1.655502             3.339007     -0.499090   -0.204857     -0.752038   \n",
       "\n",
       "           ANZ_TITEL    ARBEIT  ...  CAMEO_DEU_2015_8D  CAMEO_DEU_2015_9A  \\\n",
       "LNR                             ...                                         \n",
       "-1.656309  -0.083831 -0.459891  ...          -0.167172          -0.104604   \n",
       "-1.655987  -0.083831 -0.860749  ...          -0.167172          -0.104604   \n",
       "-1.655785  -0.083831 -0.059034  ...          -0.167172          -0.104604   \n",
       "-1.668538  -0.083831 -0.059034  ...          -0.167172          -0.104604   \n",
       "-1.655502  -0.083831 -0.459891  ...          -0.167172          -0.104604   \n",
       "\n",
       "           CAMEO_DEU_2015_9B  CAMEO_DEU_2015_9C  CAMEO_DEU_2015_9D  \\\n",
       "LNR                                                                  \n",
       "-1.656309          -0.110149          -0.100902          -0.125771   \n",
       "-1.655987          -0.110149          -0.100902          -0.125771   \n",
       "-1.655785          -0.110149          -0.100902          -0.125771   \n",
       "-1.668538          -0.110149          -0.100902          -0.125771   \n",
       "-1.655502          -0.110149          -0.100902          -0.125771   \n",
       "\n",
       "           CAMEO_DEU_2015_9E  CAMEO_DEU_2015_XX  OST_WEST_KZ_-1  \\\n",
       "LNR                                                               \n",
       "-1.656309          -0.094216          -0.016003        -0.47014   \n",
       "-1.655987          -0.094216          -0.016003        -0.47014   \n",
       "-1.655785          -0.094216          -0.016003        -0.47014   \n",
       "-1.668538          -0.094216          -0.016003        -0.47014   \n",
       "-1.655502          -0.094216          -0.016003        -0.47014   \n",
       "\n",
       "           OST_WEST_KZ_O  OST_WEST_KZ_W  \n",
       "LNR                                      \n",
       "-1.656309      -0.494196       0.778419  \n",
       "-1.655987      -0.494196       0.778419  \n",
       "-1.655785       2.023489      -1.284655  \n",
       "-1.668538      -0.494196       0.778419  \n",
       "-1.655502      -0.494196       0.778419  \n",
       "\n",
       "[5 rows x 299 columns]"
      ]
     },
     "execution_count": 86,
     "metadata": {},
     "output_type": "execute_result"
    }
   ],
   "source": [
    "df_mailout_train.head(5)"
   ]
  },
  {
   "cell_type": "code",
   "execution_count": 87,
   "metadata": {},
   "outputs": [],
   "source": [
    "# Split the dataset into Train/Validation/Test\n",
    "X_train, X_val, y_train, y_val = train_test_split(df_mailout_train, y, stratify=y, test_size=0.2, random_state=42)"
   ]
  },
  {
   "cell_type": "markdown",
   "metadata": {},
   "source": [
    "##### Step 3: Slect an algorithm for base line"
   ]
  },
  {
   "cell_type": "code",
   "execution_count": 166,
   "metadata": {},
   "outputs": [
    {
     "name": "stdout",
     "output_type": "stream",
     "text": [
      "[00:59:16] WARNING: /usr/local/miniconda/conda-bld/xgboost_1584539872846/work/src/objective/regression_obj.cu:167: reg:linear is now deprecated in favor of reg:squarederror.\n"
     ]
    },
    {
     "data": {
      "text/plain": [
       "XGBRegressor(alpha=10, base_score=0.5, booster=None, colsample_bylevel=1,\n",
       "             colsample_bynode=1, colsample_bytree=0.3, gamma=0, gpu_id=-1,\n",
       "             importance_type='gain', interaction_constraints=None,\n",
       "             learning_rate=0.1, max_delta_step=0, max_depth=5,\n",
       "             min_child_weight=1, missing=nan, monotone_constraints=None,\n",
       "             n_estimators=10, n_jobs=0, num_parallel_tree=1,\n",
       "             objective='reg:linear', random_state=0, reg_alpha=10, reg_lambda=1,\n",
       "             scale_pos_weight=1, subsample=1, tree_method=None,\n",
       "             validate_parameters=False, verbosity=None)"
      ]
     },
     "execution_count": 166,
     "metadata": {},
     "output_type": "execute_result"
    }
   ],
   "source": [
    "#using XBBoost as the algorithm for our use case as it works best for classification\n",
    "xg_reg = xgb.XGBRegressor(objective ='reg:linear', colsample_bytree = 0.3, learning_rate = 0.1,\n",
    "                max_depth = 5, alpha = 10, n_estimators = 10)\n",
    "xg_reg.fit(X_train,y_train)"
   ]
  },
  {
   "cell_type": "code",
   "execution_count": 167,
   "metadata": {},
   "outputs": [],
   "source": [
    "prediction = xg_reg.predict(X_val)"
   ]
  },
  {
   "cell_type": "code",
   "execution_count": 168,
   "metadata": {},
   "outputs": [
    {
     "data": {
      "text/plain": [
       "array([0.18258125, 0.18258125, 0.18258125, ..., 0.18258125, 0.18258125,\n",
       "       0.18258125], dtype=float32)"
      ]
     },
     "execution_count": 168,
     "metadata": {},
     "output_type": "execute_result"
    }
   ],
   "source": [
    "prediction"
   ]
  },
  {
   "cell_type": "code",
   "execution_count": 91,
   "metadata": {},
   "outputs": [
    {
     "name": "stdout",
     "output_type": "stream",
     "text": [
      "ROC score on validation data: 0.5000\n"
     ]
    }
   ],
   "source": [
    "print(\"ROC score on validation data: {:.4f}\".format(roc_auc_score(y_val, preds)))"
   ]
  },
  {
   "cell_type": "markdown",
   "metadata": {},
   "source": [
    "##### Step 4: Finalize the parameters for  algorithm"
   ]
  },
  {
   "cell_type": "code",
   "execution_count": 106,
   "metadata": {},
   "outputs": [
    {
     "name": "stdout",
     "output_type": "stream",
     "text": [
      "0.7837570426762837\n"
     ]
    }
   ],
   "source": [
    "clf_final = xgb.XGBRegressor(\n",
    "    objective = 'binary:logistic',\n",
    "    max_depth = 5,\n",
    "    min_child_weight = 2,\n",
    "    learning_rate = 0.01,    \n",
    "    reg_alpha = 0.05,\n",
    "    subsample = 0.6,\n",
    "    colsample_bytree = 0.7,\n",
    "    gamma = 0.2,    \n",
    "    scale_pos_weight = 1,\n",
    "    random_state = 42,\n",
    "    n_estimators = 500,\n",
    "    scoring = 'roc_auc')\n",
    "\n",
    "preds = clf_final.fit(X_train,y_train)\n",
    "predictions_test = preds.predict(X_val)\n",
    "print(roc_auc_score(y_val, predictions_test))"
   ]
  },
  {
   "cell_type": "markdown",
   "metadata": {},
   "source": [
    "#### Step 5: Identify important features from supervised learning"
   ]
  },
  {
   "cell_type": "code",
   "execution_count": 135,
   "metadata": {},
   "outputs": [
    {
     "data": {
      "text/plain": [
       "array([2.9300856e-03, 2.4756819e-03, 3.4327696e-03, 3.9282446e-03,\n",
       "       3.2375711e-03, 3.1140130e-03, 1.1656587e-03, 4.3504261e-03,\n",
       "       2.1443425e-03, 4.6752454e-03, 5.6532999e-03, 3.2138915e-03,\n",
       "       3.4023779e-03, 3.0834670e-03, 1.8211633e-03, 2.3940797e-03,\n",
       "       2.4226485e-03, 2.2680024e-03, 2.0449720e-03, 3.9663441e-03,\n",
       "       5.7880781e-03, 0.0000000e+00, 3.4485958e-03, 4.1057249e-03,\n",
       "       3.5254946e-03, 4.0139621e-03, 5.7446053e-03, 1.5993302e-03,\n",
       "       4.5743934e-03, 9.1511232e-04, 3.1302539e-03, 2.2688410e-03,\n",
       "       5.4607433e-03, 0.0000000e+00, 3.0194859e-03, 4.5331535e-03,\n",
       "       2.1476466e-03, 3.9690193e-03, 4.8143002e-03, 3.9258655e-03,\n",
       "       3.2435234e-03, 2.8549405e-03, 5.2904938e-03, 1.5255557e-03,\n",
       "       3.8929132e-03, 4.4590398e-03, 4.4048913e-03, 3.1762808e-03,\n",
       "       3.1625773e-03, 1.4085830e-02, 3.8810512e-03, 0.0000000e+00,\n",
       "       5.7378253e-03, 6.1602676e-03, 1.0274816e-03, 0.0000000e+00,\n",
       "       4.9499235e-05, 2.0894150e-03, 3.5619596e-03, 4.8987945e-03,\n",
       "       2.3921339e-03, 1.3489105e-03, 3.8822815e-03, 4.1420176e-03,\n",
       "       2.4614087e-03, 7.3231064e-04, 3.7457317e-03, 4.6813674e-03,\n",
       "       5.0721369e-03, 5.6858868e-03, 3.9526899e-03, 3.4824477e-03,\n",
       "       3.0150737e-03, 5.1993332e-03, 4.0469174e-03, 3.5518922e-03,\n",
       "       2.3773874e-03, 4.8548146e-03, 3.4011009e-03, 5.3077261e-03,\n",
       "       5.4890467e-03, 4.3451237e-03, 4.6592178e-03, 3.5197237e-03,\n",
       "       6.7664599e-03, 4.9905176e-03, 4.5954208e-03, 5.1817778e-03,\n",
       "       1.9988238e-03, 4.3956987e-03, 3.1712521e-03, 3.9945091e-03,\n",
       "       4.7260644e-03, 3.7877993e-03, 4.0856400e-03, 3.7533904e-03,\n",
       "       3.6402112e-03, 4.2612064e-03, 4.5858584e-03, 2.8560588e-03,\n",
       "       2.6504642e-03, 4.1590813e-03, 3.8654096e-03, 4.1772886e-03,\n",
       "       4.5263250e-03, 7.4524763e-03, 5.7681981e-03, 3.9530420e-03,\n",
       "       2.9772981e-03, 5.2982755e-03, 3.1375182e-03, 3.4873909e-03,\n",
       "       4.9885390e-03, 3.0863625e-03, 4.8311097e-03, 4.7000474e-03,\n",
       "       4.8894016e-03, 2.8822871e-03, 4.7007198e-03, 1.9268818e-03,\n",
       "       3.7393663e-03, 5.7794703e-03, 5.0339140e-03, 5.0747148e-03,\n",
       "       4.2209220e-03, 5.4629226e-03, 2.3913921e-03, 3.7201748e-03,\n",
       "       3.1469974e-03, 3.5065736e-03, 3.8188600e-03, 6.2016733e-03,\n",
       "       3.3896368e-03, 3.1828249e-03, 3.5118887e-03, 4.1819811e-03,\n",
       "       4.5677070e-03, 3.3205408e-03, 4.0437481e-03, 3.2348314e-03,\n",
       "       4.6430090e-03, 3.7153300e-03, 3.5730433e-03, 3.4542680e-03,\n",
       "       4.5805653e-03, 5.6570373e-03, 3.6379809e-03, 2.0174747e-03,\n",
       "       3.5316418e-03, 3.3242747e-03, 4.1563618e-03, 2.9602649e-03,\n",
       "       4.1114679e-03, 4.7575263e-03, 3.8196340e-03, 3.5885833e-03,\n",
       "       3.9620176e-03, 2.0260233e-03, 3.4440339e-03, 3.1405950e-03,\n",
       "       5.4296576e-03, 4.6128379e-03, 3.0441186e-03, 3.6474040e-03,\n",
       "       4.2846953e-03, 3.9277929e-03, 4.3774191e-03, 4.2152633e-03,\n",
       "       3.0307136e-03, 4.2293631e-03, 3.8140786e-03, 4.3503977e-03,\n",
       "       2.4985280e-03, 3.8942250e-03, 4.5855306e-03, 2.9469195e-03,\n",
       "       5.1969886e-03, 3.9817244e-03, 3.4248927e-03, 2.8189709e-03,\n",
       "       7.5332462e-03, 3.6625171e-03, 2.8952179e-03, 4.0248521e-03,\n",
       "       4.8915008e-03, 3.3855569e-03, 5.0038900e-03, 5.0362269e-03,\n",
       "       4.6641249e-03, 3.4755550e-03, 3.3664480e-03, 2.5500734e-03,\n",
       "       3.9703199e-03, 4.6216864e-03, 4.7839023e-03, 2.9865133e-03,\n",
       "       4.3480112e-03, 3.4703820e-03, 5.1929071e-03, 3.4782544e-03,\n",
       "       3.7362676e-03, 3.8236033e-03, 3.0362853e-03, 3.3877627e-03,\n",
       "       4.6775043e-03, 4.5885975e-03, 3.5719937e-03, 6.4132721e-03,\n",
       "       4.3337168e-03, 3.4199443e-03, 2.9978238e-03, 4.9812356e-03,\n",
       "       2.7281595e-03, 3.7327793e-03, 4.7155898e-03, 4.4970578e-03,\n",
       "       4.7020488e-03, 2.6081740e-03, 5.0120647e-03, 2.8240869e-03,\n",
       "       3.7840619e-03, 4.7375145e-03, 3.1058856e-03, 3.0196260e-03,\n",
       "       3.0547294e-03, 1.8079276e-03, 3.9543649e-03, 3.1947417e-03,\n",
       "       2.7193588e-03, 3.2629746e-03, 4.1701058e-03, 3.0166928e-03,\n",
       "       2.6905281e-03, 2.6123829e-03, 1.9651484e-03, 3.3756872e-03,\n",
       "       4.4914009e-03, 0.0000000e+00, 7.5192290e-04, 6.0221320e-03,\n",
       "       5.0409744e-03, 1.8718374e-03, 4.0303613e-03, 4.5230752e-03,\n",
       "       4.7696135e-03, 2.7653421e-03, 3.1770824e-03, 1.2383137e-03,\n",
       "       4.8805750e-03, 4.7513829e-03, 0.0000000e+00, 1.4715157e-03,\n",
       "       1.1431986e-03, 0.0000000e+00, 8.6393405e-04, 2.6146676e-03,\n",
       "       1.6496476e-03, 7.2719197e-04, 0.0000000e+00, 3.6862944e-03,\n",
       "       1.0630811e-03, 0.0000000e+00, 9.0045494e-04, 2.4241686e-03,\n",
       "       1.5194796e-03, 0.0000000e+00, 3.8436053e-03, 1.2241768e-03,\n",
       "       0.0000000e+00, 3.1114137e-03, 1.5161613e-03, 1.9480338e-03,\n",
       "       1.8274267e-03, 1.8814319e-05, 1.5659002e-03, 1.6543923e-04,\n",
       "       2.7863793e-03, 1.2068104e-03, 0.0000000e+00, 7.2346709e-04,\n",
       "       1.4246841e-03, 1.0309484e-03, 1.6935912e-03, 1.0987505e-03,\n",
       "       0.0000000e+00, 0.0000000e+00, 1.8970250e-03, 1.3258765e-03,\n",
       "       0.0000000e+00, 1.1979614e-03, 0.0000000e+00, 0.0000000e+00,\n",
       "       1.5346861e-03, 2.1305042e-03, 1.4262362e-03, 0.0000000e+00,\n",
       "       3.1611470e-03, 3.2278369e-03, 1.1850103e-03], dtype=float32)"
      ]
     },
     "execution_count": 135,
     "metadata": {},
     "output_type": "execute_result"
    }
   ],
   "source": [
    "feat_importance = clf_final.feature_importances_"
   ]
  },
  {
   "cell_type": "code",
   "execution_count": 136,
   "metadata": {},
   "outputs": [
    {
     "name": "stdout",
     "output_type": "stream",
     "text": [
      "['D19_SOZIALES' 'KBA13_KRSSEG_VAN' 'KBA05_KRSVAN' 'KBA05_ANHANG'\n",
      " 'KBA13_SEG_UTILITIES']\n",
      "[0.01408583 0.00753325 0.00745248 0.00676646 0.00641327]\n"
     ]
    },
    {
     "data": {
      "image/png": "[encoded data removed]",
      "text/plain": [
       "<Figure size 432x288 with 1 Axes>"
      ]
     },
     "metadata": {},
     "output_type": "display_data"
    }
   ],
   "source": [
    "num_feat = 5\n",
    "\n",
    "indices = np.argsort(feat_importance)[::-1]\n",
    "columns = X_train.columns.values[indices[:num_feat]]\n",
    "values = feat_importance[indices][:num_feat]\n",
    "\n",
    "print(columns)\n",
    "print(values)\n",
    "\n",
    "plt.title('Feature Importances')\n",
    "plt.barh(np.arange(num_feat), values, color='g', align='center', label = \"Feature Weight\")\n",
    "\n",
    "plt.yticks(np.arange(num_feat), columns)\n",
    "plt.xlabel('Relative Importance')\n",
    "plt.show()"
   ]
  },
  {
   "cell_type": "markdown",
   "metadata": {},
   "source": [
    "## Part 3: Kaggle Competition\n",
    "\n",
    "Now that you've created a model to predict which individuals are most likely to respond to a mailout campaign, it's time to test that model in competition through Kaggle. If you click on the link [here](http://www.kaggle.com/t/21e6d45d4c574c7fa2d868f0e8c83140), you'll be taken to the competition page where, if you have a Kaggle account, you can enter. If you're one of the top performers, you may have the chance to be contacted by a hiring manager from Arvato or Bertelsmann for an interview!\n",
    "\n",
    "Your entry to the competition should be a CSV file with two columns. The first column should be a copy of \"LNR\", which acts as an ID number for each individual in the \"TEST\" partition. The second column, \"RESPONSE\", should be some measure of how likely each individual became a customer – this might not be a straightforward probability. As you should have found in Part 2, there is a large output class imbalance, where most individuals did not respond to the mailout. Thus, predicting individual classes and using accuracy does not seem to be an appropriate performance evaluation method. Instead, the competition will be using AUC to evaluate performance. The exact values of the \"RESPONSE\" column do not matter as much: only that the higher values try to capture as many of the actual customers as possible, early in the ROC curve sweep."
   ]
  },
  {
   "cell_type": "markdown",
   "metadata": {},
   "source": [
    "##### Step 1: Get the data and split it as train and test"
   ]
  },
  {
   "cell_type": "code",
   "execution_count": 157,
   "metadata": {},
   "outputs": [
    {
     "name": "stderr",
     "output_type": "stream",
     "text": [
      "/Users/dinesh/opt/anaconda3/envs/ML_Environment/lib/python3.6/site-packages/IPython/core/interactiveshell.py:3058: DtypeWarning: Columns (18,19) have mixed types. Specify dtype option on import or set low_memory=False.\n",
      "  interactivity=interactivity, compiler=compiler, result=result)\n"
     ]
    }
   ],
   "source": [
    "mailout_test = pd.read_csv('arvato_data/Udacity_MAILOUT_052018_TEST.csv', sep=';')"
   ]
  },
  {
   "cell_type": "code",
   "execution_count": 158,
   "metadata": {},
   "outputs": [
    {
     "data": {
      "text/plain": [
       "['RESPONSE']"
      ]
     },
     "execution_count": 158,
     "metadata": {},
     "output_type": "execute_result"
    }
   ],
   "source": [
    "# as we want to make prediction using model trained with mailout_train, check/make sure this dataset is not different\n",
    "missing = list(np.setdiff1d(mailout_train.columns, mailout_test.columns))\n",
    "missing"
   ]
  },
  {
   "cell_type": "markdown",
   "metadata": {},
   "source": [
    "##### Step 2: Data cleanup"
   ]
  },
  {
   "cell_type": "code",
   "execution_count": 159,
   "metadata": {},
   "outputs": [
    {
     "name": "stdout",
     "output_type": "stream",
     "text": [
      "before preprocessing mailout_test.shape:  (42833, 366)\n"
     ]
    },
    {
     "name": "stderr",
     "output_type": "stream",
     "text": [
      "/Users/dinesh/opt/anaconda3/envs/ML_Environment/lib/python3.6/site-packages/sklearn/utils/deprecation.py:66: DeprecationWarning: Class Imputer is deprecated; Imputer was deprecated in version 0.20 and will be removed in 0.22. Import impute.SimpleImputer from sklearn instead.\n",
      "  warnings.warn(msg, category=DeprecationWarning)\n"
     ]
    },
    {
     "name": "stdout",
     "output_type": "stream",
     "text": [
      "after preprocessing mailout_test_clean.shape:  (42833, 299)\n"
     ]
    }
   ],
   "source": [
    "print('before preprocessing mailout_test.shape: ', mailout_test.shape)\n",
    "mailout_test_clean = dataCleanUp(mailout_test, False)\n",
    "print('after preprocessing mailout_test_clean.shape: ', mailout_test_clean.shape)"
   ]
  },
  {
   "cell_type": "markdown",
   "metadata": {},
   "source": [
    "##### Step 3: Predict the Output"
   ]
  },
  {
   "cell_type": "code",
   "execution_count": 160,
   "metadata": {},
   "outputs": [],
   "source": [
    "prediction_for_kaggle = clf_final.predict(mailout_test_clean)"
   ]
  },
  {
   "cell_type": "code",
   "execution_count": 161,
   "metadata": {},
   "outputs": [],
   "source": [
    "df_kaggle = pd.DataFrame(index=mailout_test['LNR'].astype('int32'), data=prediction_for_kaggle)\n",
    "df_kaggle.rename(columns={0: \"RESPONSE\"}, inplace=True)"
   ]
  },
  {
   "cell_type": "code",
   "execution_count": 162,
   "metadata": {},
   "outputs": [
    {
     "data": {
      "text/html": [
       "<div>\n",
       "<style scoped>\n",
       "    .dataframe tbody tr th:only-of-type {\n",
       "        vertical-align: middle;\n",
       "    }\n",
       "\n",
       "    .dataframe tbody tr th {\n",
       "        vertical-align: top;\n",
       "    }\n",
       "\n",
       "    .dataframe thead th {\n",
       "        text-align: right;\n",
       "    }\n",
       "</style>\n",
       "<table border=\"1\" class=\"dataframe\">\n",
       "  <thead>\n",
       "    <tr style=\"text-align: right;\">\n",
       "      <th></th>\n",
       "      <th>RESPONSE</th>\n",
       "    </tr>\n",
       "    <tr>\n",
       "      <th>LNR</th>\n",
       "      <th></th>\n",
       "    </tr>\n",
       "  </thead>\n",
       "  <tbody>\n",
       "    <tr>\n",
       "      <td>1754</td>\n",
       "      <td>0.035161</td>\n",
       "    </tr>\n",
       "    <tr>\n",
       "      <td>1770</td>\n",
       "      <td>0.035284</td>\n",
       "    </tr>\n",
       "    <tr>\n",
       "      <td>1465</td>\n",
       "      <td>0.007356</td>\n",
       "    </tr>\n",
       "    <tr>\n",
       "      <td>1470</td>\n",
       "      <td>0.008121</td>\n",
       "    </tr>\n",
       "    <tr>\n",
       "      <td>1478</td>\n",
       "      <td>0.011761</td>\n",
       "    </tr>\n",
       "    <tr>\n",
       "      <td>1782</td>\n",
       "      <td>0.006371</td>\n",
       "    </tr>\n",
       "    <tr>\n",
       "      <td>1485</td>\n",
       "      <td>0.008821</td>\n",
       "    </tr>\n",
       "    <tr>\n",
       "      <td>1519</td>\n",
       "      <td>0.022835</td>\n",
       "    </tr>\n",
       "    <tr>\n",
       "      <td>1835</td>\n",
       "      <td>0.025162</td>\n",
       "    </tr>\n",
       "    <tr>\n",
       "      <td>1522</td>\n",
       "      <td>0.008129</td>\n",
       "    </tr>\n",
       "  </tbody>\n",
       "</table>\n",
       "</div>"
      ],
      "text/plain": [
       "      RESPONSE\n",
       "LNR           \n",
       "1754  0.035161\n",
       "1770  0.035284\n",
       "1465  0.007356\n",
       "1470  0.008121\n",
       "1478  0.011761\n",
       "1782  0.006371\n",
       "1485  0.008821\n",
       "1519  0.022835\n",
       "1835  0.025162\n",
       "1522  0.008129"
      ]
     },
     "execution_count": 162,
     "metadata": {},
     "output_type": "execute_result"
    }
   ],
   "source": [
    "df_kaggle.head(10)"
   ]
  },
  {
   "cell_type": "markdown",
   "metadata": {},
   "source": [
    "##### Step 4: Save the results"
   ]
  },
  {
   "cell_type": "code",
   "execution_count": 163,
   "metadata": {},
   "outputs": [],
   "source": [
    "df_kaggle.to_csv('submission.csv')"
   ]
  },
  {
   "cell_type": "markdown",
   "metadata": {},
   "source": [
    "### References:\n",
    "\n",
    "- https://jakevdp.github.io/PythonDataScienceHandbook/index.html\n",
    "- https://stackoverflow.com/questions/29294983/how-to-calculate-correlation-between-all-columns-and-remove-highly-correlated-on\n",
    "- https://stats.stackexchange.com/questions/143700/which-is-better-replacement-by-mean-and-replacement-by-median\n",
    "- https://towardsdatascience.com/ways-to-detect-and-remove-the-outliers-404d16608dba\n",
    "- https://stackoverflow.com/questions/23199796/detect-and-exclude-outliers-in-pandas-data-frame\n",
    "- https://machinelearningmastery.com/rescaling-data-for-machine-learning-in-python-with-scikit-learn/"
   ]
  },
  {
   "cell_type": "code",
   "execution_count": null,
   "metadata": {},
   "outputs": [],
   "source": []
  }
 ],
 "metadata": {
  "kernelspec": {
   "display_name": "Python 3",
   "language": "python",
   "name": "python3"
  },
  "language_info": {
   "codemirror_mode": {
    "name": "ipython",
    "version": 3
   },
   "file_extension": ".py",
   "mimetype": "text/x-python",
   "name": "python",
   "nbconvert_exporter": "python",
   "pygments_lexer": "ipython3",
   "version": "3.6.9"
  }
 },
 "nbformat": 4,
 "nbformat_minor": 2
}
